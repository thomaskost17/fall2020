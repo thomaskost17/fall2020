{
  "nbformat": 4,
  "nbformat_minor": 0,
  "metadata": {
    "colab": {
      "name": "ECE_114_project_F2020",
      "provenance": []
    },
    "kernelspec": {
      "name": "python3",
      "display_name": "Python 3"
    },
    "accelerator": "GPU",
    "widgets": {
      "application/vnd.jupyter.widget-state+json": {
        "f414dbf40b1c45b2a8fb08b4f6f59ff4": {
          "model_module": "@jupyter-widgets/controls",
          "model_name": "HBoxModel",
          "state": {
            "_view_name": "HBoxView",
            "_dom_classes": [],
            "_model_name": "HBoxModel",
            "_view_module": "@jupyter-widgets/controls",
            "_model_module_version": "1.5.0",
            "_view_count": null,
            "_view_module_version": "1.5.0",
            "box_style": "",
            "layout": "IPY_MODEL_d44eda21a8414779a4a03ac554865c1c",
            "_model_module": "@jupyter-widgets/controls",
            "children": [
              "IPY_MODEL_37623873f6ac4f63b6649d760a3ce107",
              "IPY_MODEL_04a8a56afd244b6da6a39dc53f09db35"
            ]
          }
        },
        "d44eda21a8414779a4a03ac554865c1c": {
          "model_module": "@jupyter-widgets/base",
          "model_name": "LayoutModel",
          "state": {
            "_view_name": "LayoutView",
            "grid_template_rows": null,
            "right": null,
            "justify_content": null,
            "_view_module": "@jupyter-widgets/base",
            "overflow": null,
            "_model_module_version": "1.2.0",
            "_view_count": null,
            "flex_flow": null,
            "width": null,
            "min_width": null,
            "border": null,
            "align_items": null,
            "bottom": null,
            "_model_module": "@jupyter-widgets/base",
            "top": null,
            "grid_column": null,
            "overflow_y": null,
            "overflow_x": null,
            "grid_auto_flow": null,
            "grid_area": null,
            "grid_template_columns": null,
            "flex": null,
            "_model_name": "LayoutModel",
            "justify_items": null,
            "grid_row": null,
            "max_height": null,
            "align_content": null,
            "visibility": null,
            "align_self": null,
            "height": null,
            "min_height": null,
            "padding": null,
            "grid_auto_rows": null,
            "grid_gap": null,
            "max_width": null,
            "order": null,
            "_view_module_version": "1.2.0",
            "grid_template_areas": null,
            "object_position": null,
            "object_fit": null,
            "grid_auto_columns": null,
            "margin": null,
            "display": null,
            "left": null
          }
        },
        "37623873f6ac4f63b6649d760a3ce107": {
          "model_module": "@jupyter-widgets/controls",
          "model_name": "FloatProgressModel",
          "state": {
            "_view_name": "ProgressView",
            "style": "IPY_MODEL_f62c5582578a48c7a1b9b570147b4b7a",
            "_dom_classes": [],
            "description": "Load in files: 100%",
            "_model_name": "FloatProgressModel",
            "bar_style": "success",
            "max": 2494,
            "_view_module": "@jupyter-widgets/controls",
            "_model_module_version": "1.5.0",
            "value": 2494,
            "_view_count": null,
            "_view_module_version": "1.5.0",
            "orientation": "horizontal",
            "min": 0,
            "description_tooltip": null,
            "_model_module": "@jupyter-widgets/controls",
            "layout": "IPY_MODEL_c791c96fbc9646fcae392ca19d9f8004"
          }
        },
        "04a8a56afd244b6da6a39dc53f09db35": {
          "model_module": "@jupyter-widgets/controls",
          "model_name": "HTMLModel",
          "state": {
            "_view_name": "HTMLView",
            "style": "IPY_MODEL_98a186a671434a63afdc6e4450b920c5",
            "_dom_classes": [],
            "description": "",
            "_model_name": "HTMLModel",
            "placeholder": "​",
            "_view_module": "@jupyter-widgets/controls",
            "_model_module_version": "1.5.0",
            "value": " 2494/2494 [55:12&lt;00:00,  1.33s/it]",
            "_view_count": null,
            "_view_module_version": "1.5.0",
            "description_tooltip": null,
            "_model_module": "@jupyter-widgets/controls",
            "layout": "IPY_MODEL_c46e28d2de8240e49ac34209efb57a74"
          }
        },
        "f62c5582578a48c7a1b9b570147b4b7a": {
          "model_module": "@jupyter-widgets/controls",
          "model_name": "ProgressStyleModel",
          "state": {
            "_view_name": "StyleView",
            "_model_name": "ProgressStyleModel",
            "description_width": "initial",
            "_view_module": "@jupyter-widgets/base",
            "_model_module_version": "1.5.0",
            "_view_count": null,
            "_view_module_version": "1.2.0",
            "bar_color": null,
            "_model_module": "@jupyter-widgets/controls"
          }
        },
        "c791c96fbc9646fcae392ca19d9f8004": {
          "model_module": "@jupyter-widgets/base",
          "model_name": "LayoutModel",
          "state": {
            "_view_name": "LayoutView",
            "grid_template_rows": null,
            "right": null,
            "justify_content": null,
            "_view_module": "@jupyter-widgets/base",
            "overflow": null,
            "_model_module_version": "1.2.0",
            "_view_count": null,
            "flex_flow": null,
            "width": null,
            "min_width": null,
            "border": null,
            "align_items": null,
            "bottom": null,
            "_model_module": "@jupyter-widgets/base",
            "top": null,
            "grid_column": null,
            "overflow_y": null,
            "overflow_x": null,
            "grid_auto_flow": null,
            "grid_area": null,
            "grid_template_columns": null,
            "flex": null,
            "_model_name": "LayoutModel",
            "justify_items": null,
            "grid_row": null,
            "max_height": null,
            "align_content": null,
            "visibility": null,
            "align_self": null,
            "height": null,
            "min_height": null,
            "padding": null,
            "grid_auto_rows": null,
            "grid_gap": null,
            "max_width": null,
            "order": null,
            "_view_module_version": "1.2.0",
            "grid_template_areas": null,
            "object_position": null,
            "object_fit": null,
            "grid_auto_columns": null,
            "margin": null,
            "display": null,
            "left": null
          }
        },
        "98a186a671434a63afdc6e4450b920c5": {
          "model_module": "@jupyter-widgets/controls",
          "model_name": "DescriptionStyleModel",
          "state": {
            "_view_name": "StyleView",
            "_model_name": "DescriptionStyleModel",
            "description_width": "",
            "_view_module": "@jupyter-widgets/base",
            "_model_module_version": "1.5.0",
            "_view_count": null,
            "_view_module_version": "1.2.0",
            "_model_module": "@jupyter-widgets/controls"
          }
        },
        "c46e28d2de8240e49ac34209efb57a74": {
          "model_module": "@jupyter-widgets/base",
          "model_name": "LayoutModel",
          "state": {
            "_view_name": "LayoutView",
            "grid_template_rows": null,
            "right": null,
            "justify_content": null,
            "_view_module": "@jupyter-widgets/base",
            "overflow": null,
            "_model_module_version": "1.2.0",
            "_view_count": null,
            "flex_flow": null,
            "width": null,
            "min_width": null,
            "border": null,
            "align_items": null,
            "bottom": null,
            "_model_module": "@jupyter-widgets/base",
            "top": null,
            "grid_column": null,
            "overflow_y": null,
            "overflow_x": null,
            "grid_auto_flow": null,
            "grid_area": null,
            "grid_template_columns": null,
            "flex": null,
            "_model_name": "LayoutModel",
            "justify_items": null,
            "grid_row": null,
            "max_height": null,
            "align_content": null,
            "visibility": null,
            "align_self": null,
            "height": null,
            "min_height": null,
            "padding": null,
            "grid_auto_rows": null,
            "grid_gap": null,
            "max_width": null,
            "order": null,
            "_view_module_version": "1.2.0",
            "grid_template_areas": null,
            "object_position": null,
            "object_fit": null,
            "grid_auto_columns": null,
            "margin": null,
            "display": null,
            "left": null
          }
        },
        "b80334ff3c5e417fbf39336fc2126770": {
          "model_module": "@jupyter-widgets/controls",
          "model_name": "HBoxModel",
          "state": {
            "_view_name": "HBoxView",
            "_dom_classes": [],
            "_model_name": "HBoxModel",
            "_view_module": "@jupyter-widgets/controls",
            "_model_module_version": "1.5.0",
            "_view_count": null,
            "_view_module_version": "1.5.0",
            "box_style": "",
            "layout": "IPY_MODEL_4c2d415c15844c578a008eb160faec17",
            "_model_module": "@jupyter-widgets/controls",
            "children": [
              "IPY_MODEL_80136fb00f4344c1b7f36a8912d96074",
              "IPY_MODEL_68d4d32d2b9a48818543d4caf0526a00"
            ]
          }
        },
        "4c2d415c15844c578a008eb160faec17": {
          "model_module": "@jupyter-widgets/base",
          "model_name": "LayoutModel",
          "state": {
            "_view_name": "LayoutView",
            "grid_template_rows": null,
            "right": null,
            "justify_content": null,
            "_view_module": "@jupyter-widgets/base",
            "overflow": null,
            "_model_module_version": "1.2.0",
            "_view_count": null,
            "flex_flow": null,
            "width": null,
            "min_width": null,
            "border": null,
            "align_items": null,
            "bottom": null,
            "_model_module": "@jupyter-widgets/base",
            "top": null,
            "grid_column": null,
            "overflow_y": null,
            "overflow_x": null,
            "grid_auto_flow": null,
            "grid_area": null,
            "grid_template_columns": null,
            "flex": null,
            "_model_name": "LayoutModel",
            "justify_items": null,
            "grid_row": null,
            "max_height": null,
            "align_content": null,
            "visibility": null,
            "align_self": null,
            "height": null,
            "min_height": null,
            "padding": null,
            "grid_auto_rows": null,
            "grid_gap": null,
            "max_width": null,
            "order": null,
            "_view_module_version": "1.2.0",
            "grid_template_areas": null,
            "object_position": null,
            "object_fit": null,
            "grid_auto_columns": null,
            "margin": null,
            "display": null,
            "left": null
          }
        },
        "80136fb00f4344c1b7f36a8912d96074": {
          "model_module": "@jupyter-widgets/controls",
          "model_name": "FloatProgressModel",
          "state": {
            "_view_name": "ProgressView",
            "style": "IPY_MODEL_5398b038ff7d45ca8068d15951129feb",
            "_dom_classes": [],
            "description": "100%",
            "_model_name": "FloatProgressModel",
            "bar_style": "success",
            "max": 2552,
            "_view_module": "@jupyter-widgets/controls",
            "_model_module_version": "1.5.0",
            "value": 2552,
            "_view_count": null,
            "_view_module_version": "1.5.0",
            "orientation": "horizontal",
            "min": 0,
            "description_tooltip": null,
            "_model_module": "@jupyter-widgets/controls",
            "layout": "IPY_MODEL_fcad123f9646492093f9df4db3df33c4"
          }
        },
        "68d4d32d2b9a48818543d4caf0526a00": {
          "model_module": "@jupyter-widgets/controls",
          "model_name": "HTMLModel",
          "state": {
            "_view_name": "HTMLView",
            "style": "IPY_MODEL_5ab60d30986b4708b9571da01a98c5dd",
            "_dom_classes": [],
            "description": "",
            "_model_name": "HTMLModel",
            "placeholder": "​",
            "_view_module": "@jupyter-widgets/controls",
            "_model_module_version": "1.5.0",
            "value": " 2552/2552 [30:45&lt;00:00,  1.38it/s]",
            "_view_count": null,
            "_view_module_version": "1.5.0",
            "description_tooltip": null,
            "_model_module": "@jupyter-widgets/controls",
            "layout": "IPY_MODEL_13f7954d5bb44bbdbc814a12cd34d771"
          }
        },
        "5398b038ff7d45ca8068d15951129feb": {
          "model_module": "@jupyter-widgets/controls",
          "model_name": "ProgressStyleModel",
          "state": {
            "_view_name": "StyleView",
            "_model_name": "ProgressStyleModel",
            "description_width": "initial",
            "_view_module": "@jupyter-widgets/base",
            "_model_module_version": "1.5.0",
            "_view_count": null,
            "_view_module_version": "1.2.0",
            "bar_color": null,
            "_model_module": "@jupyter-widgets/controls"
          }
        },
        "fcad123f9646492093f9df4db3df33c4": {
          "model_module": "@jupyter-widgets/base",
          "model_name": "LayoutModel",
          "state": {
            "_view_name": "LayoutView",
            "grid_template_rows": null,
            "right": null,
            "justify_content": null,
            "_view_module": "@jupyter-widgets/base",
            "overflow": null,
            "_model_module_version": "1.2.0",
            "_view_count": null,
            "flex_flow": null,
            "width": null,
            "min_width": null,
            "border": null,
            "align_items": null,
            "bottom": null,
            "_model_module": "@jupyter-widgets/base",
            "top": null,
            "grid_column": null,
            "overflow_y": null,
            "overflow_x": null,
            "grid_auto_flow": null,
            "grid_area": null,
            "grid_template_columns": null,
            "flex": null,
            "_model_name": "LayoutModel",
            "justify_items": null,
            "grid_row": null,
            "max_height": null,
            "align_content": null,
            "visibility": null,
            "align_self": null,
            "height": null,
            "min_height": null,
            "padding": null,
            "grid_auto_rows": null,
            "grid_gap": null,
            "max_width": null,
            "order": null,
            "_view_module_version": "1.2.0",
            "grid_template_areas": null,
            "object_position": null,
            "object_fit": null,
            "grid_auto_columns": null,
            "margin": null,
            "display": null,
            "left": null
          }
        },
        "5ab60d30986b4708b9571da01a98c5dd": {
          "model_module": "@jupyter-widgets/controls",
          "model_name": "DescriptionStyleModel",
          "state": {
            "_view_name": "StyleView",
            "_model_name": "DescriptionStyleModel",
            "description_width": "",
            "_view_module": "@jupyter-widgets/base",
            "_model_module_version": "1.5.0",
            "_view_count": null,
            "_view_module_version": "1.2.0",
            "_model_module": "@jupyter-widgets/controls"
          }
        },
        "13f7954d5bb44bbdbc814a12cd34d771": {
          "model_module": "@jupyter-widgets/base",
          "model_name": "LayoutModel",
          "state": {
            "_view_name": "LayoutView",
            "grid_template_rows": null,
            "right": null,
            "justify_content": null,
            "_view_module": "@jupyter-widgets/base",
            "overflow": null,
            "_model_module_version": "1.2.0",
            "_view_count": null,
            "flex_flow": null,
            "width": null,
            "min_width": null,
            "border": null,
            "align_items": null,
            "bottom": null,
            "_model_module": "@jupyter-widgets/base",
            "top": null,
            "grid_column": null,
            "overflow_y": null,
            "overflow_x": null,
            "grid_auto_flow": null,
            "grid_area": null,
            "grid_template_columns": null,
            "flex": null,
            "_model_name": "LayoutModel",
            "justify_items": null,
            "grid_row": null,
            "max_height": null,
            "align_content": null,
            "visibility": null,
            "align_self": null,
            "height": null,
            "min_height": null,
            "padding": null,
            "grid_auto_rows": null,
            "grid_gap": null,
            "max_width": null,
            "order": null,
            "_view_module_version": "1.2.0",
            "grid_template_areas": null,
            "object_position": null,
            "object_fit": null,
            "grid_auto_columns": null,
            "margin": null,
            "display": null,
            "left": null
          }
        }
      }
    }
  },
  "cells": [
    {
      "cell_type": "markdown",
      "metadata": {
        "id": "aKrwy4Wv62Uw"
      },
      "source": [
        "In this project, we will use machine learning to complete a single word speech recognition task.  Here, we use one second recordings of the digits zero - nine from the Google Speech Command database https://ai.googleblog.com/2017/08/launching-speech-commands-dataset.html, meaning that every recording used belongs to one of ten classes (zero, one, two, three, four, five, six, seven, eight, or nine).  To perform the recognition, we have two frameworks as shown below:\n",
        "\n",
        "1. We can directly feed the audio signal into a neural network for audio classification.  Models that read in the raw signal with no feature extraction are called end to end models.\n",
        "\n",
        "2. We can extract some short time feature from each frame of the audio, giving the spectrogram or another acoustic representation.  We can then take these combination of these features accross time as an image and perform image classification on them.\n",
        "\n",
        "\n",
        "In this project, you will explore both methods.\n",
        "\n",
        "You may (but are not required) to change any of the code given here.  You can just add your new code to the bottom of the file.\n",
        "\n",
        "**Before you run anything, go to the toolbar at the top and select: Runtime > Change runtime type > GPU.**"
      ]
    },
    {
      "cell_type": "markdown",
      "metadata": {
        "id": "X7xnFLM4ly7N"
      },
      "source": [
        "Mount your google drive to give google colab access to files stored in your google drive"
      ]
    },
    {
      "cell_type": "code",
      "metadata": {
        "id": "Semsm6NcUZSp",
        "outputId": "afb01570-d4b7-434e-eff0-77a1a8de4cdb",
        "colab": {
          "base_uri": "https://localhost:8080/",
          "height": 34
        }
      },
      "source": [
        "from google.colab import drive\n",
        "drive.mount('/content/gdrive/')"
      ],
      "execution_count": null,
      "outputs": [
        {
          "output_type": "stream",
          "text": [
            "Mounted at /content/gdrive/\n"
          ],
          "name": "stdout"
        }
      ]
    },
    {
      "cell_type": "markdown",
      "metadata": {
        "id": "k1BWoQ6r7HgB"
      },
      "source": [
        "Change directory to the place where the google ai speech commands dataset is stored.  You can find the path by typing \"!ls\" to see what files and directories are currently available.  Then type \"!ls <subdirectory you want to explore>\" to see what files are in the next subdirectory.  Keep doing that, separating the subdirectories with slashes \"/\" until you get to the speech_commands_v0.01 folder as shown below.  Then put that filepath in the os.chdir command."
      ]
    },
    {
      "cell_type": "code",
      "metadata": {
        "id": "ZGOjOJ1WUghi",
        "outputId": "c8719fc5-11ea-4411-d512-e318637beeb5",
        "colab": {
          "base_uri": "https://localhost:8080/",
          "height": 191
        }
      },
      "source": [
        "import os\n",
        "\n",
        "os.chdir('/content/gdrive/My Drive/speech_commands_v0.01')\n",
        "!ls\n"
      ],
      "execution_count": null,
      "outputs": [
        {
          "output_type": "stream",
          "text": [
            "_background_noise_  happy    README.md\t\t     train_list.txt\n",
            "bed\t\t    house    right\t\t     tree\n",
            "bird\t\t    left     seven\t\t     two\n",
            "cat\t\t    LICENSE  sheila\t\t     up\n",
            "dog\t\t    marvin   six\t\t     validation_list.txt\n",
            "down\t\t    nine     stop\t\t     wow\n",
            "eight\t\t    no\t     testing_digit_list.txt  yes\n",
            "five\t\t    off      testing_list.txt\t     zero\n",
            "four\t\t    on\t     three\n",
            "go\t\t    one      train_digit_list.txt\n"
          ],
          "name": "stdout"
        }
      ]
    },
    {
      "cell_type": "markdown",
      "metadata": {
        "id": "w4a4cGfW7ydf"
      },
      "source": [
        "Load in the text file that lists the audio files to be used.  We'll only use the subset of files listed in this text file for this project."
      ]
    },
    {
      "cell_type": "code",
      "metadata": {
        "id": "nM1j3Gd4Ugkm"
      },
      "source": [
        "text_file = open(\"train_digit_list.txt\", \"r\")\n",
        "training_list = text_file.read().splitlines()"
      ],
      "execution_count": null,
      "outputs": []
    },
    {
      "cell_type": "markdown",
      "metadata": {
        "id": "z3-iYEBD77rl"
      },
      "source": [
        "Read in all of the audio files.  Store the raw audio to a list called all_wav_list.  Store any features extracted to a listt called all_feat_list.  This part may take a while depending on what features you extract.  You can go watch netflix or work on your homework or something and come back when it's done>  You have to redo this every time you run the code which can be kind of a pain.  If you prefer, you can store the list after you've generated it and then redownload it instead of recreating it:\n",
        "\n",
        "# Import the pickle library\n",
        "\n",
        "import pickle\n",
        "\n",
        "# Create a list\n",
        "\n",
        "l = [1,2,3,4] # create a list\n",
        "#store the list as a file\n",
        "    with open(\"test.txt\", \"wb\") as fp:   #Pickling\n",
        "        pickle.dump(l, fp)\n",
        "# open the file and read the list from it \n",
        "    with open(\"test.txt\", \"rb\") as fp:   # Unpickling\n",
        "        b = pickle.load(fp)"
      ]
    },
    {
      "cell_type": "code",
      "metadata": {
        "id": "yzzTlNeoUgpP",
        "outputId": "747306a0-5890-40cc-f7f5-82eeb8c038bd",
        "colab": {
          "base_uri": "https://localhost:8080/",
          "height": 66,
          "referenced_widgets": [
            "f414dbf40b1c45b2a8fb08b4f6f59ff4",
            "d44eda21a8414779a4a03ac554865c1c",
            "37623873f6ac4f63b6649d760a3ce107",
            "04a8a56afd244b6da6a39dc53f09db35",
            "f62c5582578a48c7a1b9b570147b4b7a",
            "c791c96fbc9646fcae392ca19d9f8004",
            "98a186a671434a63afdc6e4450b920c5",
            "c46e28d2de8240e49ac34209efb57a74"
          ]
        }
      },
      "source": [
        "import librosa.feature as lf\n",
        "import scipy.io.wavfile as wav\n",
        "import numpy as np\n",
        "from tqdm.notebook import tnrange\n",
        "\n",
        "#initialize lists\n",
        "all_wav_list = []\n",
        "all_feat_list = []\n",
        "all_labels = []\n",
        "\n",
        "#loop through all audio files listed in the text file\n",
        "for i in tnrange(len(training_list), desc='Load in files'):\n",
        "  #load in the given audio file\n",
        "  fs, audio = wav.read(training_list[i])\n",
        "\n",
        "  \n",
        "  z=np.zeros((fs,))\n",
        "  #if an audio file is less than a second, add zeros to it to make it a second\n",
        "  if audio.size<=fs:\n",
        "    z[:audio.size]=audio\n",
        "  # if an audio file is longer than a second, clip it to a second\n",
        "  elif audio.size>fs:\n",
        "    z=audio[:fs]\n",
        "  feat = lf.melspectrogram(z.astype('float'), sr =fs)\n",
        "  #here, we use the melspectrogram as a feature. You can use other features like\n",
        "  #LPCs, mfccs, or whatever you find.  The Librosa library has more features,\n",
        "  #and you can explore other libraries\n",
        "  all_wav_list.append(z.astype('float'))\n",
        "  all_feat_list.append(feat.reshape(1, feat.shape[0], feat.shape[1]))\n",
        "\n",
        "# get labels from the file name (ie which word is in the audio file)\n",
        "  which_word=training_list[i].split('/')[0]\n",
        "  all_labels.append(which_word)\n",
        "\n"
      ],
      "execution_count": null,
      "outputs": [
        {
          "output_type": "display_data",
          "data": {
            "application/vnd.jupyter.widget-view+json": {
              "model_id": "f414dbf40b1c45b2a8fb08b4f6f59ff4",
              "version_minor": 0,
              "version_major": 2
            },
            "text/plain": [
              "HBox(children=(FloatProgress(value=0.0, description='Load in files', max=2494.0, style=ProgressStyle(descripti…"
            ]
          },
          "metadata": {
            "tags": []
          }
        },
        {
          "output_type": "stream",
          "text": [
            "\n"
          ],
          "name": "stdout"
        }
      ]
    },
    {
      "cell_type": "markdown",
      "metadata": {
        "id": "irpAGci69OqE"
      },
      "source": [
        "Let's listen to one of the audio files to verify that it loaded in correctly"
      ]
    },
    {
      "cell_type": "code",
      "metadata": {
        "id": "DEmrEVWWWPDc",
        "outputId": "369906f5-bc26-4a78-f2b8-1c9718a55a52",
        "colab": {
          "base_uri": "https://localhost:8080/",
          "height": 74
        }
      },
      "source": [
        "import IPython\n",
        "IPython.display.Audio(training_list[0])"
      ],
      "execution_count": null,
      "outputs": [
        {
          "output_type": "execute_result",
          "data": {
            "text/html": [
              "\n",
              "                <audio controls=\"controls\" >\n",
              "                    <source src=\"data:audio/x-wav;base64,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\" type=\"audio/x-wav\" />\n",
              "                    Your browser does not support the audio element.\n",
              "                </audio>\n",
              "              "
            ],
            "text/plain": [
              "<IPython.lib.display.Audio object>"
            ]
          },
          "metadata": {
            "tags": []
          },
          "execution_count": 5
        }
      ]
    },
    {
      "cell_type": "markdown",
      "metadata": {
        "id": "dHoLMFx09VAi"
      },
      "source": [
        "And verify that the sizes of the lists look correct"
      ]
    },
    {
      "cell_type": "code",
      "metadata": {
        "id": "pkNXFwqFf1w0",
        "outputId": "22097c37-6fe6-42bc-caf3-5de98b10de96",
        "colab": {
          "base_uri": "https://localhost:8080/",
          "height": 86
        }
      },
      "source": [
        "print(len(all_wav_list))\n",
        "print(len(all_feat_list))\n",
        "print(len(all_labels))\n",
        "print(all_feat_list[0].shape)"
      ],
      "execution_count": null,
      "outputs": [
        {
          "output_type": "stream",
          "text": [
            "2494\n",
            "2494\n",
            "2494\n",
            "(1, 128, 32)\n"
          ],
          "name": "stdout"
        }
      ]
    },
    {
      "cell_type": "markdown",
      "metadata": {
        "id": "QTPzv4HF9cV_"
      },
      "source": [
        "Now we'll start with speech recognition from the raw audio.  We'll concatenate the raw signals into a matrix X_sig."
      ]
    },
    {
      "cell_type": "code",
      "metadata": {
        "id": "AcfVtiengPlB",
        "outputId": "c4153fca-e7da-48d7-b6e7-6bf3b79ee890",
        "colab": {
          "base_uri": "https://localhost:8080/",
          "height": 34
        }
      },
      "source": [
        "X_sig = np.vstack(all_wav_list)\n",
        "X_sig = X_sig.reshape(X_sig.shape[0], X_sig.shape[1], 1)\n",
        "print(X_sig.shape)"
      ],
      "execution_count": null,
      "outputs": [
        {
          "output_type": "stream",
          "text": [
            "(2494, 16000, 1)\n"
          ],
          "name": "stdout"
        }
      ]
    },
    {
      "cell_type": "markdown",
      "metadata": {
        "id": "5g1SiSOj-MY4"
      },
      "source": [
        "And we'll one hot encode our labels.  This will transform our labels from words to a vector that represents the label with a numerical value.  All of the encoded labels will have the same norm to prevent bias.  For instance, if there were five words then they would be encoded as:\n",
        "\n",
        "$y1 = [1, 0, 0, 0, 0]$\n",
        "\n",
        "$y2 = [0, 1, 0, 0, 0]$\n",
        "\n",
        "$y3 = [0, 0, 1, 0, 0]$\n",
        "\n",
        "$y4 = [0, 0, 0, 1, 0]$\n",
        "\n",
        "$y5 = [0, 0, 0, 0, 1]$\n",
        "\n",
        "This will be useful in comparing correct and incorrect labels later"
      ]
    },
    {
      "cell_type": "code",
      "metadata": {
        "id": "QyG63fh1-NLx"
      },
      "source": [
        "from sklearn import preprocessing\n",
        "import scipy as sp\n",
        "\n",
        "le = preprocessing.LabelEncoder()\n",
        "le.fit(all_labels)\n",
        "encoded_labels = le.transform(all_labels)\n",
        "\n",
        "oh_enc = preprocessing.OneHotEncoder()\n",
        "oh_enc.fit(encoded_labels.reshape(-1,1))\n",
        "\n",
        "y = oh_enc.transform(encoded_labels.reshape(-1,1))\n",
        "y = sp.sparse.csr_matrix.toarray(y)"
      ],
      "execution_count": null,
      "outputs": []
    },
    {
      "cell_type": "markdown",
      "metadata": {
        "id": "0gpoWF739rOj"
      },
      "source": [
        "Then we'll devide the whole set into a testing and a training set."
      ]
    },
    {
      "cell_type": "code",
      "metadata": {
        "id": "K7ulgVbqhF_Z"
      },
      "source": [
        "from sklearn.model_selection import train_test_split\n",
        "\n",
        "X_sig_train, X_sig_test, y_train, y_test = train_test_split(X_sig, y, test_size=0.2, random_state=42)"
      ],
      "execution_count": null,
      "outputs": []
    },
    {
      "cell_type": "markdown",
      "metadata": {
        "id": "XgwtlNnfKn1U"
      },
      "source": [
        "Create and run an end to end model for audio classification:  We create a sequential model using the keras module in tensorflow and then add the desired layer to it.\n",
        "\n",
        "The graph is created of a static size, so the size of every layer must be pre-defined.  Tensorflow will take care of calculated the sizes needed in each layer if we specify the size of the input layer, the size of the output layer, and the parameters of each desired layers.\n",
        "\n",
        "The input is a collection of 1D signals each one second long.  The static graph requires that all inputs be the same size which we make sure of in shaping the input matrix above.  This will have the shape (number_of_signals, len_of_signals, 1).  The number of signals we feed into the network does not affect its structure, so we just need to specify the shapes of these inputs in input layer as (fs, 1) for the one second long signals.\n",
        "\n",
        "This input is then passed into convolutional layers and then recurrent layers (GRU) before the fully connected network (ie multilayer perceptrion) makes the final output decision.  In betweek the layers are forms of regularization such as MaxPooling (downsampling the output of a layer), dropout(randomly setting some percentage of the weights of a layer to zero for given iteration), and batch normalization (normalizing the mean and standard deviation of the output of a layer so that the numbers don't become too large).  These methods try to ensure that the solution found by the neural network does not rely too strongly on any one trend that occurs in its weights or any trend that only occurs with a small numbe of its weights.  This helps ensure that the solution found by the network is not too specific to the training data and generalizes well to any other test set of a similar distribution.\n",
        "\n",
        "At the output layer, we set the size of the last fully connected layer to 10 to let the network know that we expect a classification decision between one of the ten classes.  The output of the last layer is of the form:\n",
        "\n",
        "$out=[x_0, x_1, x_2, x_3, x_4,x_5,x_6,x_7,x_8,x_9]$\n",
        "\n",
        "where each $x_i$ is the calculated probability that the given audio sample belongs to class i.  The classification decision is then $y_{pred} =argmax_i(out)$ which we compare to the actual labels stored in the actual $y_{test}$."
      ]
    },
    {
      "cell_type": "code",
      "metadata": {
        "id": "wuO_4Uywghm4",
        "outputId": "cc03c567-1432-4945-832f-49d301dfedb8",
        "colab": {
          "base_uri": "https://localhost:8080/",
          "height": 1000
        }
      },
      "source": [
        "import tensorflow as tf\n",
        "\n",
        "model_e2e = tf.keras.models.Sequential()\n",
        "model_e2e.add(tf.keras.Input(shape=(fs,1))) #Make sure that the input size is the size of the signal\n",
        "model_e2e.add(tf.keras.layers.BatchNormalization(axis=-1, momentum=0.99, epsilon=1e-3, center=True, scale=True, )) #adjust input to unit variance and zero mean\n",
        "#First Conv1D layer\n",
        "model_e2e.add(tf.keras.layers.Conv1D(8,13, padding='valid', activation='relu', strides=1)) #Convolve with 8 1D kernels of length 13\n",
        "model_e2e.add(tf.keras.layers.MaxPooling1D(3)) #Downsample - take the max out of every three elements\n",
        "model_e2e.add(tf.keras.layers.Dropout(0.3)) #drop nodes with probability 0.3\n",
        "#Second Conv1D layer\n",
        "model_e2e.add(tf.keras.layers.Conv1D(16, 11, padding='valid', activation='relu', strides=1)) #Convolve with 16 1D kernels of length 11\n",
        "model_e2e.add(tf.keras.layers.MaxPooling1D(3))\n",
        "model_e2e.add(tf.keras.layers.Dropout(0.3))\n",
        "#Third Conv1D layer\n",
        "model_e2e.add(tf.keras.layers.Conv1D(32, 9, padding='valid', activation='relu', strides=1))\n",
        "model_e2e.add(tf.keras.layers.MaxPooling1D(3))\n",
        "model_e2e.add(tf.keras.layers.Dropout(0.3))\n",
        "model_e2e.add(tf.keras.layers.BatchNormalization(axis=-1, momentum=0.99, epsilon=1e-3, center=True, scale=True))\n",
        "model_e2e.add(tf.keras.layers.Bidirectional(tf.python.keras.layers.CuDNNGRU(128, return_sequences=True), merge_mode='sum')) #Recurrent layer, uses time series data\n",
        "model_e2e.add(tf.keras.layers.Bidirectional(tf.python.keras.layers.CuDNNGRU(128, return_sequences=True), merge_mode='sum'))\n",
        "model_e2e.add(tf.keras.layers.Bidirectional(tf.python.keras.layers.CuDNNGRU(128, return_sequences=False), merge_mode='sum')) #set return sequences to False for last recurrent layer\n",
        "model_e2e.add(tf.keras.layers.BatchNormalization(axis=-1, momentum=0.99, epsilon=1e-3, center=True, scale=True))\n",
        "#Flatten layer\n",
        "model_e2e.add(tf.keras.layers.Flatten()) # Turn 2D result of convolution to a single vector\n",
        "#Dense Layer 1\n",
        "model_e2e.add(tf.keras.layers.Dense(256, activation='relu')) #Fully connected layer\n",
        "model_e2e.add(tf.keras.layers. Dense(10, activation=\"softmax\")) #output layer, need size = num_classes\n",
        "model_e2e.summary() #show breakdown of parameters\n",
        "\n",
        "model_e2e.compile(loss='categorical_crossentropy', optimizer='nadam', metrics=['accuracy']) #decide loss function and metrics\n",
        "\n",
        "hist = model_e2e.fit(\n",
        "    x=X_sig_train, \n",
        "    y=y_train,\n",
        "    epochs=50, \n",
        "    batch_size=32)\n"
      ],
      "execution_count": null,
      "outputs": [
        {
          "output_type": "stream",
          "text": [
            "Model: \"sequential_2\"\n",
            "_________________________________________________________________\n",
            "Layer (type)                 Output Shape              Param #   \n",
            "=================================================================\n",
            "batch_normalization_4 (Batch (None, 16000, 1)          4         \n",
            "_________________________________________________________________\n",
            "conv1d_4 (Conv1D)            (None, 15988, 8)          112       \n",
            "_________________________________________________________________\n",
            "max_pooling1d_3 (MaxPooling1 (None, 5329, 8)           0         \n",
            "_________________________________________________________________\n",
            "dropout_3 (Dropout)          (None, 5329, 8)           0         \n",
            "_________________________________________________________________\n",
            "conv1d_5 (Conv1D)            (None, 5319, 16)          1424      \n",
            "_________________________________________________________________\n",
            "max_pooling1d_4 (MaxPooling1 (None, 1773, 16)          0         \n",
            "_________________________________________________________________\n",
            "dropout_4 (Dropout)          (None, 1773, 16)          0         \n",
            "_________________________________________________________________\n",
            "conv1d_6 (Conv1D)            (None, 1765, 32)          4640      \n",
            "_________________________________________________________________\n",
            "max_pooling1d_5 (MaxPooling1 (None, 588, 32)           0         \n",
            "_________________________________________________________________\n",
            "dropout_5 (Dropout)          (None, 588, 32)           0         \n",
            "_________________________________________________________________\n",
            "batch_normalization_5 (Batch (None, 588, 32)           128       \n",
            "_________________________________________________________________\n",
            "bidirectional_3 (Bidirection (None, 588, 128)          124416    \n",
            "_________________________________________________________________\n",
            "bidirectional_4 (Bidirection (None, 588, 128)          198144    \n",
            "_________________________________________________________________\n",
            "bidirectional_5 (Bidirection (None, 128)               198144    \n",
            "_________________________________________________________________\n",
            "batch_normalization_6 (Batch (None, 128)               512       \n",
            "_________________________________________________________________\n",
            "flatten_1 (Flatten)          (None, 128)               0         \n",
            "_________________________________________________________________\n",
            "dense_2 (Dense)              (None, 256)               33024     \n",
            "_________________________________________________________________\n",
            "dense_3 (Dense)              (None, 10)                2570      \n",
            "=================================================================\n",
            "Total params: 563,118\n",
            "Trainable params: 562,796\n",
            "Non-trainable params: 322\n",
            "_________________________________________________________________\n",
            "Epoch 1/50\n",
            "63/63 [==============================] - 12s 197ms/step - loss: 2.4103 - accuracy: 0.1043\n",
            "Epoch 2/50\n",
            "63/63 [==============================] - 9s 143ms/step - loss: 2.3575 - accuracy: 0.1173\n",
            "Epoch 3/50\n",
            "63/63 [==============================] - 9s 144ms/step - loss: 2.2036 - accuracy: 0.1759\n",
            "Epoch 4/50\n",
            "63/63 [==============================] - 9s 145ms/step - loss: 1.8100 - accuracy: 0.3469\n",
            "Epoch 5/50\n",
            "63/63 [==============================] - 9s 144ms/step - loss: 1.5768 - accuracy: 0.4251\n",
            "Epoch 6/50\n",
            "63/63 [==============================] - 9s 144ms/step - loss: 1.3001 - accuracy: 0.5414\n",
            "Epoch 7/50\n",
            "63/63 [==============================] - 9s 144ms/step - loss: 1.0274 - accuracy: 0.6351\n",
            "Epoch 8/50\n",
            "63/63 [==============================] - 9s 143ms/step - loss: 0.8754 - accuracy: 0.6892\n",
            "Epoch 9/50\n",
            "63/63 [==============================] - 9s 143ms/step - loss: 0.7279 - accuracy: 0.7524\n",
            "Epoch 10/50\n",
            "63/63 [==============================] - 9s 144ms/step - loss: 0.6391 - accuracy: 0.7865\n",
            "Epoch 11/50\n",
            "63/63 [==============================] - 9s 144ms/step - loss: 0.5688 - accuracy: 0.8045\n",
            "Epoch 12/50\n",
            "63/63 [==============================] - 9s 144ms/step - loss: 0.5450 - accuracy: 0.8206\n",
            "Epoch 13/50\n",
            "63/63 [==============================] - 9s 144ms/step - loss: 0.4932 - accuracy: 0.8291\n",
            "Epoch 14/50\n",
            "63/63 [==============================] - 9s 144ms/step - loss: 0.4187 - accuracy: 0.8617\n",
            "Epoch 15/50\n",
            "63/63 [==============================] - 9s 143ms/step - loss: 0.4377 - accuracy: 0.8431\n",
            "Epoch 16/50\n",
            "63/63 [==============================] - 9s 144ms/step - loss: 0.4175 - accuracy: 0.8501\n",
            "Epoch 17/50\n",
            "63/63 [==============================] - 9s 144ms/step - loss: 0.3864 - accuracy: 0.8607\n",
            "Epoch 18/50\n",
            "63/63 [==============================] - 9s 144ms/step - loss: 0.3508 - accuracy: 0.8747\n",
            "Epoch 19/50\n",
            "63/63 [==============================] - 9s 144ms/step - loss: 0.2899 - accuracy: 0.8982\n",
            "Epoch 20/50\n",
            "63/63 [==============================] - 9s 146ms/step - loss: 0.3159 - accuracy: 0.8942\n",
            "Epoch 21/50\n",
            "63/63 [==============================] - 9s 145ms/step - loss: 0.2758 - accuracy: 0.9063\n",
            "Epoch 22/50\n",
            "63/63 [==============================] - 9s 145ms/step - loss: 0.3017 - accuracy: 0.8957\n",
            "Epoch 23/50\n",
            "63/63 [==============================] - 9s 145ms/step - loss: 0.2546 - accuracy: 0.9108\n",
            "Epoch 24/50\n",
            "63/63 [==============================] - 9s 144ms/step - loss: 0.2521 - accuracy: 0.9153\n",
            "Epoch 25/50\n",
            "63/63 [==============================] - 9s 145ms/step - loss: 0.2609 - accuracy: 0.9083\n",
            "Epoch 26/50\n",
            "63/63 [==============================] - 9s 144ms/step - loss: 0.2066 - accuracy: 0.9268\n",
            "Epoch 27/50\n",
            "63/63 [==============================] - 9s 146ms/step - loss: 0.1926 - accuracy: 0.9398\n",
            "Epoch 28/50\n",
            "63/63 [==============================] - 9s 143ms/step - loss: 0.2003 - accuracy: 0.9288\n",
            "Epoch 29/50\n",
            "63/63 [==============================] - 9s 144ms/step - loss: 0.1786 - accuracy: 0.9393\n",
            "Epoch 30/50\n",
            "63/63 [==============================] - 9s 145ms/step - loss: 0.1883 - accuracy: 0.9358\n",
            "Epoch 31/50\n",
            "63/63 [==============================] - 9s 144ms/step - loss: 0.2197 - accuracy: 0.9298\n",
            "Epoch 32/50\n",
            "63/63 [==============================] - 9s 144ms/step - loss: 0.2086 - accuracy: 0.9303\n",
            "Epoch 33/50\n",
            "63/63 [==============================] - 9s 144ms/step - loss: 0.1695 - accuracy: 0.9383\n",
            "Epoch 34/50\n",
            "63/63 [==============================] - 9s 144ms/step - loss: 0.1955 - accuracy: 0.9358\n",
            "Epoch 35/50\n",
            "63/63 [==============================] - 9s 144ms/step - loss: 0.1518 - accuracy: 0.9454\n",
            "Epoch 36/50\n",
            "63/63 [==============================] - 9s 145ms/step - loss: 0.1776 - accuracy: 0.9419\n",
            "Epoch 37/50\n",
            "63/63 [==============================] - 9s 144ms/step - loss: 0.1273 - accuracy: 0.9544\n",
            "Epoch 38/50\n",
            "63/63 [==============================] - 9s 144ms/step - loss: 0.1225 - accuracy: 0.9574\n",
            "Epoch 39/50\n",
            "63/63 [==============================] - 9s 145ms/step - loss: 0.1079 - accuracy: 0.9619\n",
            "Epoch 40/50\n",
            "63/63 [==============================] - 9s 145ms/step - loss: 0.1505 - accuracy: 0.9514\n",
            "Epoch 41/50\n",
            "63/63 [==============================] - 9s 146ms/step - loss: 0.1173 - accuracy: 0.9589\n",
            "Epoch 42/50\n",
            "63/63 [==============================] - 9s 145ms/step - loss: 0.1210 - accuracy: 0.9574\n",
            "Epoch 43/50\n",
            "63/63 [==============================] - 9s 145ms/step - loss: 0.1170 - accuracy: 0.9589\n",
            "Epoch 44/50\n",
            "63/63 [==============================] - 9s 143ms/step - loss: 0.1260 - accuracy: 0.9589\n",
            "Epoch 45/50\n",
            "63/63 [==============================] - 9s 146ms/step - loss: 0.1238 - accuracy: 0.9569\n",
            "Epoch 46/50\n",
            "63/63 [==============================] - 9s 145ms/step - loss: 0.1244 - accuracy: 0.9564\n",
            "Epoch 47/50\n",
            "63/63 [==============================] - 9s 145ms/step - loss: 0.1742 - accuracy: 0.9409\n",
            "Epoch 48/50\n",
            "63/63 [==============================] - 9s 144ms/step - loss: 0.1089 - accuracy: 0.9624\n",
            "Epoch 49/50\n",
            "63/63 [==============================] - 9s 144ms/step - loss: 0.1262 - accuracy: 0.9584\n",
            "Epoch 50/50\n",
            "63/63 [==============================] - 9s 145ms/step - loss: 0.1128 - accuracy: 0.9609\n"
          ],
          "name": "stdout"
        }
      ]
    },
    {
      "cell_type": "code",
      "metadata": {
        "id": "-VfDRKhi0fR8",
        "outputId": "aecee4ca-78fb-4b70-bf7e-4752e34ff5c2",
        "colab": {
          "base_uri": "https://localhost:8080/",
          "height": 51
        }
      },
      "source": [
        "model_e2e.evaluate(X_sig_test, y_test)"
      ],
      "execution_count": null,
      "outputs": [
        {
          "output_type": "stream",
          "text": [
            "16/16 [==============================] - 4s 275ms/step - loss: 0.4062 - accuracy: 0.8998\n"
          ],
          "name": "stdout"
        },
        {
          "output_type": "execute_result",
          "data": {
            "text/plain": [
              "[0.40616175532341003, 0.8997995853424072]"
            ]
          },
          "metadata": {
            "tags": []
          },
          "execution_count": 20
        }
      ]
    },
    {
      "cell_type": "markdown",
      "metadata": {
        "id": "8o5rJbIN_39r"
      },
      "source": [
        "Now we'll move on to performing speech recognition by identifying the image of the spectrogram.  We'll begon by concatenating the features extracted into a matrix"
      ]
    },
    {
      "cell_type": "code",
      "metadata": {
        "id": "VKUeL4Kqitr1",
        "outputId": "e66f5a67-f038-4ef5-d4ef-b930824ad129",
        "colab": {
          "base_uri": "https://localhost:8080/",
          "height": 34
        }
      },
      "source": [
        "X_im = np.vstack(all_feat_list)\n",
        "X_im=np.array(X_im.reshape(X_im.shape[0],X_im.shape[1],X_im.shape[2], 1))\n",
        "print(X_im.shape) "
      ],
      "execution_count": null,
      "outputs": [
        {
          "output_type": "stream",
          "text": [
            "(2494, 128, 32, 1)\n"
          ],
          "name": "stdout"
        }
      ]
    },
    {
      "cell_type": "markdown",
      "metadata": {
        "id": "93yJ6lovAH9G"
      },
      "source": [
        "Let's view an image of our features"
      ]
    },
    {
      "cell_type": "code",
      "metadata": {
        "id": "srYJlxPYY6vi",
        "outputId": "caed3175-afae-47fe-d96c-523338c9f067",
        "colab": {
          "base_uri": "https://localhost:8080/",
          "height": 857
        }
      },
      "source": [
        "import matplotlib.pyplot as plt\n",
        "im = X_im[100,:,:].reshape(X_im.shape[1],X_im.shape[2])\n",
        "im=im[::-1,:]\n",
        "plt.figure(figsize=(20,10), dpi=100)\n",
        "plt.imshow(im)\n",
        "plt.ylabel('frequency (bin number)')\n",
        "plt.xlabel('time (frame number)')\n",
        "plt.title('A random spectrogram');\n"
      ],
      "execution_count": null,
      "outputs": [
        {
          "output_type": "display_data",
          "data": {
            "image/png": "[encoded data removed]",
            "text/plain": [
              "<Figure size 2000x1000 with 1 Axes>"
            ]
          },
          "metadata": {
            "tags": [],
            "needs_background": "light"
          }
        }
      ]
    },
    {
      "cell_type": "markdown",
      "metadata": {
        "id": "gcg5w9COAn2p"
      },
      "source": [
        "We'll similarly split our whole set into testing and training sets"
      ]
    },
    {
      "cell_type": "code",
      "metadata": {
        "id": "PYpTPetTl-tv"
      },
      "source": [
        "from sklearn.model_selection import train_test_split\n",
        "\n",
        "X_im_train, X_im_test, y_train, y_test = train_test_split(X_im, y, test_size=0.2, random_state=42)"
      ],
      "execution_count": null,
      "outputs": []
    },
    {
      "cell_type": "markdown",
      "metadata": {
        "id": "hdVkeqUdPmkt"
      },
      "source": [
        "Here we similarly train a CNN to recognize the images generated from the speech signals.  We again create the sequential model, and specify the input size in the first layer.\n",
        "\n",
        "The imput matrix contains a collection of 2D signals.  Here the input matrix is of the shape (number_of_images, number_of_features (or height of each image), number_of_frames (or width of each image), 1).  If these were color RGB images, then we would need to replace the 1 with a 3 to let the network know that the signals have a depth of 3.  We will stick with grayscale images for simplicity.  We tell the network to expect some number of images with a shape of (num_features, num_timesteps, 1) as the input here.\n",
        "\n",
        "This input is then passed into multiple 2D convolutional layers with maxpooling as regularization between.  This 2D maxpooling downsamples accross both the x and y dimensions of the image.\n",
        "\n",
        "The output of the last conv layer is then flattened into a 1D vector and passed to the multilayer perceptiron for a final classification decision in the same way as in the end to end model."
      ]
    },
    {
      "cell_type": "code",
      "metadata": {
        "id": "kMI6XVfZUeM-",
        "outputId": "4d47d668-d204-40a4-e7c3-92be4a9cc334",
        "colab": {
          "base_uri": "https://localhost:8080/",
          "height": 1000
        }
      },
      "source": [
        "\n",
        "import tensorflow as tf\n",
        "\n",
        "n_features = X_im.shape[1]\n",
        "time_steps = X_im.shape[2]\n",
        "\n",
        "model_cnn = tf.keras.models.Sequential()\n",
        "model_cnn.add(tf.keras.layers.Conv2D(32, (3, 3), activation='relu', kernel_initializer='he_uniform', padding='same', input_shape=(n_features, time_steps, 1))) # convolve with 32 kernels of size 3 x 3\n",
        "model_cnn.add(tf.keras.layers.Conv2D(32, (3, 3), activation='relu', kernel_initializer='he_uniform', padding='same')) # convolve with 32 kernels of size 3 x 3\n",
        "model_cnn.add(tf.keras.layers.MaxPooling2D((2, 2))) #Dowmsample by 2 in each direction- take max element of every 2\n",
        "model_cnn.add(tf.keras.layers.Conv2D(64, (3, 3), activation='relu', kernel_initializer='he_uniform', padding='same')) # convolve with 64 kernels of size 3 x 3\n",
        "model_cnn.add(tf.keras.layers.Conv2D(64, (3, 3), activation='relu', kernel_initializer='he_uniform', padding='same'))\n",
        "model_cnn.add(tf.keras.layers.MaxPooling2D((2, 2)))\n",
        "model_cnn.add(tf.keras.layers.Conv2D(128, (3, 3), activation='relu', kernel_initializer='he_uniform', padding='same')) # convolve with 128 kernels of size 3 x 3\n",
        "model_cnn.add(tf.keras.layers.Conv2D(128, (3, 3), activation='relu', kernel_initializer='he_uniform', padding='same'))\n",
        "model_cnn.add(tf.keras.layers.MaxPooling2D((2, 2)))\n",
        "model_cnn.add(tf.keras.layers.Flatten()) # Flatten output into a vector\n",
        "model_cnn.add(tf.keras.layers.Dense(128, activation='relu', kernel_initializer='he_uniform')) # Fully connected layer with 128 nodes\n",
        "model_cnn.add(tf.keras.layers.Dense(10, activation='softmax')) #output layer, size must equal the number of classes\n",
        "\n",
        "Adam=tf.keras.optimizers.Adam(lr=0.01, beta_1=0.9, beta_2=0.999, epsilon=None, decay=0.9, amsgrad=False)\n",
        "\n",
        "model_cnn.compile(loss='categorical_crossentropy',\n",
        "              optimizer=Adam,\n",
        "              metrics=['accuracy'])\n",
        "model_cnn.summary() #print out breakdown of model parameters\n",
        "history=model_cnn.fit(X_im_train, y_train, validation_split = 0.2, batch_size=200, epochs=500)"
      ],
      "execution_count": null,
      "outputs": [
        {
          "output_type": "stream",
          "text": [
            "Model: \"sequential_20\"\n",
            "_________________________________________________________________\n",
            "Layer (type)                 Output Shape              Param #   \n",
            "=================================================================\n",
            "conv2d_54 (Conv2D)           (None, 128, 32, 32)       320       \n",
            "_________________________________________________________________\n",
            "conv2d_55 (Conv2D)           (None, 128, 32, 32)       9248      \n",
            "_________________________________________________________________\n",
            "max_pooling2d_42 (MaxPooling (None, 64, 16, 32)        0         \n",
            "_________________________________________________________________\n",
            "conv2d_56 (Conv2D)           (None, 64, 16, 64)        18496     \n",
            "_________________________________________________________________\n",
            "conv2d_57 (Conv2D)           (None, 64, 16, 64)        36928     \n",
            "_________________________________________________________________\n",
            "max_pooling2d_43 (MaxPooling (None, 32, 8, 64)         0         \n",
            "_________________________________________________________________\n",
            "conv2d_58 (Conv2D)           (None, 32, 8, 128)        73856     \n",
            "_________________________________________________________________\n",
            "conv2d_59 (Conv2D)           (None, 32, 8, 128)        147584    \n",
            "_________________________________________________________________\n",
            "max_pooling2d_44 (MaxPooling (None, 16, 4, 128)        0         \n",
            "_________________________________________________________________\n",
            "flatten_16 (Flatten)         (None, 8192)              0         \n",
            "_________________________________________________________________\n",
            "dense_30 (Dense)             (None, 128)               1048704   \n",
            "_________________________________________________________________\n",
            "dense_31 (Dense)             (None, 10)                1290      \n",
            "=================================================================\n",
            "Total params: 1,336,426\n",
            "Trainable params: 1,336,426\n",
            "Non-trainable params: 0\n",
            "_________________________________________________________________\n",
            "Epoch 1/500\n",
            "2/8 [======>.......................] - ETA: 0s - loss: 1322622648320.0000 - accuracy: 0.0925WARNING:tensorflow:Callbacks method `on_train_batch_end` is slow compared to the batch time (batch time: 0.0202s vs `on_train_batch_end` time: 0.0376s). Check your callbacks.\n",
            "8/8 [==============================] - 3s 320ms/step - loss: 392849620992.0000 - accuracy: 0.1598 - val_loss: 5512850432.0000 - val_accuracy: 0.1429\n",
            "Epoch 2/500\n",
            "8/8 [==============================] - 1s 64ms/step - loss: 2577442304.0000 - accuracy: 0.1736 - val_loss: 1187212544.0000 - val_accuracy: 0.1404\n",
            "Epoch 3/500\n",
            "8/8 [==============================] - 0s 62ms/step - loss: 767602368.0000 - accuracy: 0.1692 - val_loss: 592567616.0000 - val_accuracy: 0.1529\n",
            "Epoch 4/500\n",
            "8/8 [==============================] - 1s 64ms/step - loss: 419794816.0000 - accuracy: 0.1523 - val_loss: 409989312.0000 - val_accuracy: 0.1479\n",
            "Epoch 5/500\n",
            "8/8 [==============================] - 0s 62ms/step - loss: 306817408.0000 - accuracy: 0.1472 - val_loss: 327821248.0000 - val_accuracy: 0.1529\n",
            "Epoch 6/500\n",
            "8/8 [==============================] - 1s 65ms/step - loss: 251429856.0000 - accuracy: 0.1479 - val_loss: 283042688.0000 - val_accuracy: 0.1579\n",
            "Epoch 7/500\n",
            "8/8 [==============================] - 1s 64ms/step - loss: 216303680.0000 - accuracy: 0.1447 - val_loss: 251954672.0000 - val_accuracy: 0.1454\n",
            "Epoch 8/500\n",
            "8/8 [==============================] - 1s 64ms/step - loss: 192672800.0000 - accuracy: 0.1441 - val_loss: 228582736.0000 - val_accuracy: 0.1378\n",
            "Epoch 9/500\n",
            "8/8 [==============================] - 1s 63ms/step - loss: 174060912.0000 - accuracy: 0.1422 - val_loss: 209613536.0000 - val_accuracy: 0.1378\n",
            "Epoch 10/500\n",
            "8/8 [==============================] - 1s 64ms/step - loss: 157041072.0000 - accuracy: 0.1410 - val_loss: 193602400.0000 - val_accuracy: 0.1404\n",
            "Epoch 11/500\n",
            "8/8 [==============================] - 1s 63ms/step - loss: 144060256.0000 - accuracy: 0.1479 - val_loss: 179786896.0000 - val_accuracy: 0.1554\n",
            "Epoch 12/500\n",
            "8/8 [==============================] - 1s 63ms/step - loss: 132118216.0000 - accuracy: 0.1497 - val_loss: 167691776.0000 - val_accuracy: 0.1554\n",
            "Epoch 13/500\n",
            "8/8 [==============================] - 1s 63ms/step - loss: 121831936.0000 - accuracy: 0.1535 - val_loss: 156243488.0000 - val_accuracy: 0.1604\n",
            "Epoch 14/500\n",
            "8/8 [==============================] - 1s 63ms/step - loss: 111577624.0000 - accuracy: 0.1573 - val_loss: 145830432.0000 - val_accuracy: 0.1554\n",
            "Epoch 15/500\n",
            "8/8 [==============================] - 1s 63ms/step - loss: 102903712.0000 - accuracy: 0.1579 - val_loss: 135628048.0000 - val_accuracy: 0.1579\n",
            "Epoch 16/500\n",
            "8/8 [==============================] - 1s 63ms/step - loss: 94735160.0000 - accuracy: 0.1629 - val_loss: 127143696.0000 - val_accuracy: 0.1604\n",
            "Epoch 17/500\n",
            "8/8 [==============================] - 1s 63ms/step - loss: 87732648.0000 - accuracy: 0.1635 - val_loss: 119191896.0000 - val_accuracy: 0.1629\n",
            "Epoch 18/500\n",
            "8/8 [==============================] - 1s 64ms/step - loss: 81382312.0000 - accuracy: 0.1667 - val_loss: 112432616.0000 - val_accuracy: 0.1654\n",
            "Epoch 19/500\n",
            "8/8 [==============================] - 1s 63ms/step - loss: 75978280.0000 - accuracy: 0.1742 - val_loss: 106112208.0000 - val_accuracy: 0.1629\n",
            "Epoch 20/500\n",
            "8/8 [==============================] - 1s 63ms/step - loss: 71106920.0000 - accuracy: 0.1773 - val_loss: 101357808.0000 - val_accuracy: 0.1679\n",
            "Epoch 21/500\n",
            "8/8 [==============================] - 1s 63ms/step - loss: 66983684.0000 - accuracy: 0.1830 - val_loss: 97315256.0000 - val_accuracy: 0.1704\n",
            "Epoch 22/500\n",
            "8/8 [==============================] - 1s 63ms/step - loss: 63390508.0000 - accuracy: 0.1873 - val_loss: 93596632.0000 - val_accuracy: 0.1704\n",
            "Epoch 23/500\n",
            "8/8 [==============================] - 1s 63ms/step - loss: 60012528.0000 - accuracy: 0.1905 - val_loss: 90507032.0000 - val_accuracy: 0.1805\n",
            "Epoch 24/500\n",
            "8/8 [==============================] - 1s 64ms/step - loss: 57260688.0000 - accuracy: 0.1980 - val_loss: 87588752.0000 - val_accuracy: 0.1830\n",
            "Epoch 25/500\n",
            "8/8 [==============================] - 1s 63ms/step - loss: 55066300.0000 - accuracy: 0.2005 - val_loss: 84599656.0000 - val_accuracy: 0.1880\n",
            "Epoch 26/500\n",
            "8/8 [==============================] - 1s 63ms/step - loss: 52605888.0000 - accuracy: 0.2043 - val_loss: 81982744.0000 - val_accuracy: 0.1880\n",
            "Epoch 27/500\n",
            "8/8 [==============================] - 1s 65ms/step - loss: 50501344.0000 - accuracy: 0.2068 - val_loss: 79606872.0000 - val_accuracy: 0.1880\n",
            "Epoch 28/500\n",
            "8/8 [==============================] - 1s 64ms/step - loss: 48576472.0000 - accuracy: 0.2118 - val_loss: 77164840.0000 - val_accuracy: 0.1905\n",
            "Epoch 29/500\n",
            "8/8 [==============================] - 1s 63ms/step - loss: 46698168.0000 - accuracy: 0.2162 - val_loss: 74832424.0000 - val_accuracy: 0.1905\n",
            "Epoch 30/500\n",
            "8/8 [==============================] - 1s 65ms/step - loss: 44984496.0000 - accuracy: 0.2206 - val_loss: 72711472.0000 - val_accuracy: 0.2005\n",
            "Epoch 31/500\n",
            "8/8 [==============================] - 1s 63ms/step - loss: 43381340.0000 - accuracy: 0.2287 - val_loss: 70871560.0000 - val_accuracy: 0.2030\n",
            "Epoch 32/500\n",
            "8/8 [==============================] - 1s 64ms/step - loss: 41807088.0000 - accuracy: 0.2306 - val_loss: 69189672.0000 - val_accuracy: 0.2030\n",
            "Epoch 33/500\n",
            "8/8 [==============================] - 1s 63ms/step - loss: 40361980.0000 - accuracy: 0.2318 - val_loss: 67530184.0000 - val_accuracy: 0.2055\n",
            "Epoch 34/500\n",
            "8/8 [==============================] - 1s 64ms/step - loss: 39034336.0000 - accuracy: 0.2299 - val_loss: 65684432.0000 - val_accuracy: 0.2055\n",
            "Epoch 35/500\n",
            "8/8 [==============================] - 1s 63ms/step - loss: 37766428.0000 - accuracy: 0.2299 - val_loss: 64196668.0000 - val_accuracy: 0.2080\n",
            "Epoch 36/500\n",
            "8/8 [==============================] - 1s 63ms/step - loss: 36561548.0000 - accuracy: 0.2312 - val_loss: 62887748.0000 - val_accuracy: 0.2105\n",
            "Epoch 37/500\n",
            "8/8 [==============================] - 1s 63ms/step - loss: 35515844.0000 - accuracy: 0.2343 - val_loss: 61411440.0000 - val_accuracy: 0.2080\n",
            "Epoch 38/500\n",
            "8/8 [==============================] - 1s 63ms/step - loss: 34461472.0000 - accuracy: 0.2381 - val_loss: 60327152.0000 - val_accuracy: 0.2105\n",
            "Epoch 39/500\n",
            "8/8 [==============================] - 1s 63ms/step - loss: 33567128.0000 - accuracy: 0.2412 - val_loss: 59116120.0000 - val_accuracy: 0.2105\n",
            "Epoch 40/500\n",
            "8/8 [==============================] - 1s 64ms/step - loss: 32657094.0000 - accuracy: 0.2387 - val_loss: 57904112.0000 - val_accuracy: 0.2105\n",
            "Epoch 41/500\n",
            "8/8 [==============================] - 1s 63ms/step - loss: 31798864.0000 - accuracy: 0.2375 - val_loss: 56835864.0000 - val_accuracy: 0.2105\n",
            "Epoch 42/500\n",
            "8/8 [==============================] - 1s 63ms/step - loss: 31056586.0000 - accuracy: 0.2419 - val_loss: 55843172.0000 - val_accuracy: 0.2180\n",
            "Epoch 43/500\n",
            "8/8 [==============================] - 1s 64ms/step - loss: 30307856.0000 - accuracy: 0.2500 - val_loss: 55013088.0000 - val_accuracy: 0.2180\n",
            "Epoch 44/500\n",
            "8/8 [==============================] - 1s 63ms/step - loss: 29628832.0000 - accuracy: 0.2500 - val_loss: 54110444.0000 - val_accuracy: 0.2155\n",
            "Epoch 45/500\n",
            "8/8 [==============================] - 1s 63ms/step - loss: 29010176.0000 - accuracy: 0.2513 - val_loss: 53258460.0000 - val_accuracy: 0.2180\n",
            "Epoch 46/500\n",
            "8/8 [==============================] - 1s 63ms/step - loss: 28396396.0000 - accuracy: 0.2513 - val_loss: 52645592.0000 - val_accuracy: 0.2180\n",
            "Epoch 47/500\n",
            "8/8 [==============================] - 1s 63ms/step - loss: 27831924.0000 - accuracy: 0.2538 - val_loss: 51949952.0000 - val_accuracy: 0.2105\n",
            "Epoch 48/500\n",
            "8/8 [==============================] - 1s 63ms/step - loss: 27286970.0000 - accuracy: 0.2556 - val_loss: 51227732.0000 - val_accuracy: 0.2130\n",
            "Epoch 49/500\n",
            "8/8 [==============================] - 1s 63ms/step - loss: 26762148.0000 - accuracy: 0.2588 - val_loss: 50461580.0000 - val_accuracy: 0.2130\n",
            "Epoch 50/500\n",
            "8/8 [==============================] - 1s 63ms/step - loss: 26228838.0000 - accuracy: 0.2613 - val_loss: 49735388.0000 - val_accuracy: 0.2180\n",
            "Epoch 51/500\n",
            "8/8 [==============================] - 0s 62ms/step - loss: 25710522.0000 - accuracy: 0.2650 - val_loss: 49018148.0000 - val_accuracy: 0.2180\n",
            "Epoch 52/500\n",
            "8/8 [==============================] - 1s 63ms/step - loss: 25243594.0000 - accuracy: 0.2650 - val_loss: 48453144.0000 - val_accuracy: 0.2206\n",
            "Epoch 53/500\n",
            "8/8 [==============================] - 1s 63ms/step - loss: 24811354.0000 - accuracy: 0.2669 - val_loss: 47814024.0000 - val_accuracy: 0.2231\n",
            "Epoch 54/500\n",
            "8/8 [==============================] - 0s 62ms/step - loss: 24377506.0000 - accuracy: 0.2663 - val_loss: 47300936.0000 - val_accuracy: 0.2256\n",
            "Epoch 55/500\n",
            "8/8 [==============================] - 1s 64ms/step - loss: 23948518.0000 - accuracy: 0.2719 - val_loss: 46754208.0000 - val_accuracy: 0.2231\n",
            "Epoch 56/500\n",
            "8/8 [==============================] - 0s 62ms/step - loss: 23547172.0000 - accuracy: 0.2675 - val_loss: 46237212.0000 - val_accuracy: 0.2256\n",
            "Epoch 57/500\n",
            "8/8 [==============================] - 0s 62ms/step - loss: 23165682.0000 - accuracy: 0.2707 - val_loss: 45904728.0000 - val_accuracy: 0.2306\n",
            "Epoch 58/500\n",
            "8/8 [==============================] - 0s 62ms/step - loss: 22785802.0000 - accuracy: 0.2726 - val_loss: 45557088.0000 - val_accuracy: 0.2306\n",
            "Epoch 59/500\n",
            "8/8 [==============================] - 0s 62ms/step - loss: 22440990.0000 - accuracy: 0.2738 - val_loss: 45090780.0000 - val_accuracy: 0.2281\n",
            "Epoch 60/500\n",
            "8/8 [==============================] - 0s 61ms/step - loss: 22090364.0000 - accuracy: 0.2782 - val_loss: 44679552.0000 - val_accuracy: 0.2256\n",
            "Epoch 61/500\n",
            "8/8 [==============================] - 0s 62ms/step - loss: 21770348.0000 - accuracy: 0.2763 - val_loss: 44289852.0000 - val_accuracy: 0.2281\n",
            "Epoch 62/500\n",
            "8/8 [==============================] - 0s 61ms/step - loss: 21436812.0000 - accuracy: 0.2857 - val_loss: 43981736.0000 - val_accuracy: 0.2281\n",
            "Epoch 63/500\n",
            "8/8 [==============================] - 0s 62ms/step - loss: 21149744.0000 - accuracy: 0.2813 - val_loss: 43608776.0000 - val_accuracy: 0.2281\n",
            "Epoch 64/500\n",
            "8/8 [==============================] - 1s 63ms/step - loss: 20845306.0000 - accuracy: 0.2832 - val_loss: 43321368.0000 - val_accuracy: 0.2256\n",
            "Epoch 65/500\n",
            "8/8 [==============================] - 1s 63ms/step - loss: 20570572.0000 - accuracy: 0.2851 - val_loss: 42974500.0000 - val_accuracy: 0.2306\n",
            "Epoch 66/500\n",
            "8/8 [==============================] - 0s 61ms/step - loss: 20306186.0000 - accuracy: 0.2794 - val_loss: 42632660.0000 - val_accuracy: 0.2306\n",
            "Epoch 67/500\n",
            "8/8 [==============================] - 0s 61ms/step - loss: 20032596.0000 - accuracy: 0.2820 - val_loss: 42467252.0000 - val_accuracy: 0.2306\n",
            "Epoch 68/500\n",
            "8/8 [==============================] - 1s 63ms/step - loss: 19780098.0000 - accuracy: 0.2845 - val_loss: 42210312.0000 - val_accuracy: 0.2331\n",
            "Epoch 69/500\n",
            "8/8 [==============================] - 0s 61ms/step - loss: 19525640.0000 - accuracy: 0.2820 - val_loss: 41881332.0000 - val_accuracy: 0.2331\n",
            "Epoch 70/500\n",
            "8/8 [==============================] - 0s 61ms/step - loss: 19277076.0000 - accuracy: 0.2813 - val_loss: 41588036.0000 - val_accuracy: 0.2331\n",
            "Epoch 71/500\n",
            "8/8 [==============================] - 0s 61ms/step - loss: 19055192.0000 - accuracy: 0.2888 - val_loss: 41356496.0000 - val_accuracy: 0.2306\n",
            "Epoch 72/500\n",
            "8/8 [==============================] - 0s 61ms/step - loss: 18817932.0000 - accuracy: 0.2882 - val_loss: 41155092.0000 - val_accuracy: 0.2306\n",
            "Epoch 73/500\n",
            "8/8 [==============================] - 0s 61ms/step - loss: 18586288.0000 - accuracy: 0.2882 - val_loss: 40842484.0000 - val_accuracy: 0.2281\n",
            "Epoch 74/500\n",
            "8/8 [==============================] - 0s 61ms/step - loss: 18356644.0000 - accuracy: 0.2888 - val_loss: 40629172.0000 - val_accuracy: 0.2256\n",
            "Epoch 75/500\n",
            "8/8 [==============================] - 0s 61ms/step - loss: 18144174.0000 - accuracy: 0.2920 - val_loss: 40353652.0000 - val_accuracy: 0.2231\n",
            "Epoch 76/500\n",
            "8/8 [==============================] - 0s 61ms/step - loss: 17944458.0000 - accuracy: 0.2939 - val_loss: 40213456.0000 - val_accuracy: 0.2231\n",
            "Epoch 77/500\n",
            "8/8 [==============================] - 0s 61ms/step - loss: 17752314.0000 - accuracy: 0.2957 - val_loss: 39973532.0000 - val_accuracy: 0.2256\n",
            "Epoch 78/500\n",
            "8/8 [==============================] - 0s 62ms/step - loss: 17549880.0000 - accuracy: 0.2976 - val_loss: 39773280.0000 - val_accuracy: 0.2281\n",
            "Epoch 79/500\n",
            "8/8 [==============================] - 0s 61ms/step - loss: 17352692.0000 - accuracy: 0.3039 - val_loss: 39587072.0000 - val_accuracy: 0.2281\n",
            "Epoch 80/500\n",
            "8/8 [==============================] - 0s 61ms/step - loss: 17173720.0000 - accuracy: 0.3014 - val_loss: 39398956.0000 - val_accuracy: 0.2356\n",
            "Epoch 81/500\n",
            "8/8 [==============================] - 0s 61ms/step - loss: 16991248.0000 - accuracy: 0.2995 - val_loss: 39211272.0000 - val_accuracy: 0.2356\n",
            "Epoch 82/500\n",
            "8/8 [==============================] - 0s 61ms/step - loss: 16821284.0000 - accuracy: 0.3026 - val_loss: 39037864.0000 - val_accuracy: 0.2331\n",
            "Epoch 83/500\n",
            "8/8 [==============================] - 0s 61ms/step - loss: 16638065.0000 - accuracy: 0.3045 - val_loss: 38852932.0000 - val_accuracy: 0.2356\n",
            "Epoch 84/500\n",
            "8/8 [==============================] - 0s 62ms/step - loss: 16478019.0000 - accuracy: 0.3039 - val_loss: 38679544.0000 - val_accuracy: 0.2381\n",
            "Epoch 85/500\n",
            "8/8 [==============================] - 0s 61ms/step - loss: 16312115.0000 - accuracy: 0.3095 - val_loss: 38503312.0000 - val_accuracy: 0.2381\n",
            "Epoch 86/500\n",
            "8/8 [==============================] - 0s 60ms/step - loss: 16149002.0000 - accuracy: 0.3095 - val_loss: 38299256.0000 - val_accuracy: 0.2381\n",
            "Epoch 87/500\n",
            "8/8 [==============================] - 0s 61ms/step - loss: 15989461.0000 - accuracy: 0.3089 - val_loss: 38193924.0000 - val_accuracy: 0.2381\n",
            "Epoch 88/500\n",
            "8/8 [==============================] - 0s 61ms/step - loss: 15826286.0000 - accuracy: 0.3120 - val_loss: 38006356.0000 - val_accuracy: 0.2406\n",
            "Epoch 89/500\n",
            "8/8 [==============================] - 0s 61ms/step - loss: 15687266.0000 - accuracy: 0.3039 - val_loss: 37808564.0000 - val_accuracy: 0.2406\n",
            "Epoch 90/500\n",
            "8/8 [==============================] - 0s 61ms/step - loss: 15528955.0000 - accuracy: 0.3120 - val_loss: 37698156.0000 - val_accuracy: 0.2381\n",
            "Epoch 91/500\n",
            "8/8 [==============================] - 0s 60ms/step - loss: 15365064.0000 - accuracy: 0.3145 - val_loss: 37529356.0000 - val_accuracy: 0.2356\n",
            "Epoch 92/500\n",
            "8/8 [==============================] - 0s 61ms/step - loss: 15231013.0000 - accuracy: 0.3133 - val_loss: 37342808.0000 - val_accuracy: 0.2406\n",
            "Epoch 93/500\n",
            "8/8 [==============================] - 0s 61ms/step - loss: 15084547.0000 - accuracy: 0.3133 - val_loss: 37269472.0000 - val_accuracy: 0.2406\n",
            "Epoch 94/500\n",
            "8/8 [==============================] - 0s 61ms/step - loss: 14944084.0000 - accuracy: 0.3195 - val_loss: 37116860.0000 - val_accuracy: 0.2381\n",
            "Epoch 95/500\n",
            "8/8 [==============================] - 0s 61ms/step - loss: 14811681.0000 - accuracy: 0.3158 - val_loss: 36935004.0000 - val_accuracy: 0.2381\n",
            "Epoch 96/500\n",
            "8/8 [==============================] - 0s 60ms/step - loss: 14677874.0000 - accuracy: 0.3170 - val_loss: 36853104.0000 - val_accuracy: 0.2381\n",
            "Epoch 97/500\n",
            "8/8 [==============================] - 0s 61ms/step - loss: 14556524.0000 - accuracy: 0.3227 - val_loss: 36702492.0000 - val_accuracy: 0.2406\n",
            "Epoch 98/500\n",
            "8/8 [==============================] - 0s 61ms/step - loss: 14428947.0000 - accuracy: 0.3195 - val_loss: 36537316.0000 - val_accuracy: 0.2406\n",
            "Epoch 99/500\n",
            "8/8 [==============================] - 0s 60ms/step - loss: 14310686.0000 - accuracy: 0.3164 - val_loss: 36427012.0000 - val_accuracy: 0.2406\n",
            "Epoch 100/500\n",
            "8/8 [==============================] - 0s 61ms/step - loss: 14187109.0000 - accuracy: 0.3264 - val_loss: 36320284.0000 - val_accuracy: 0.2406\n",
            "Epoch 101/500\n",
            "8/8 [==============================] - 0s 60ms/step - loss: 14068610.0000 - accuracy: 0.3239 - val_loss: 36168040.0000 - val_accuracy: 0.2406\n",
            "Epoch 102/500\n",
            "8/8 [==============================] - 0s 60ms/step - loss: 13957610.0000 - accuracy: 0.3233 - val_loss: 36047216.0000 - val_accuracy: 0.2406\n",
            "Epoch 103/500\n",
            "8/8 [==============================] - 0s 60ms/step - loss: 13844456.0000 - accuracy: 0.3227 - val_loss: 35941100.0000 - val_accuracy: 0.2431\n",
            "Epoch 104/500\n",
            "8/8 [==============================] - 0s 60ms/step - loss: 13739125.0000 - accuracy: 0.3252 - val_loss: 35842000.0000 - val_accuracy: 0.2406\n",
            "Epoch 105/500\n",
            "8/8 [==============================] - 0s 61ms/step - loss: 13637227.0000 - accuracy: 0.3302 - val_loss: 35712064.0000 - val_accuracy: 0.2406\n",
            "Epoch 106/500\n",
            "8/8 [==============================] - 0s 60ms/step - loss: 13548598.0000 - accuracy: 0.3246 - val_loss: 35593824.0000 - val_accuracy: 0.2431\n",
            "Epoch 107/500\n",
            "8/8 [==============================] - 0s 61ms/step - loss: 13441856.0000 - accuracy: 0.3321 - val_loss: 35570912.0000 - val_accuracy: 0.2456\n",
            "Epoch 108/500\n",
            "8/8 [==============================] - 0s 61ms/step - loss: 13347751.0000 - accuracy: 0.3346 - val_loss: 35467376.0000 - val_accuracy: 0.2456\n",
            "Epoch 109/500\n",
            "8/8 [==============================] - 0s 60ms/step - loss: 13253230.0000 - accuracy: 0.3302 - val_loss: 35312008.0000 - val_accuracy: 0.2456\n",
            "Epoch 110/500\n",
            "8/8 [==============================] - 0s 61ms/step - loss: 13155970.0000 - accuracy: 0.3296 - val_loss: 35215508.0000 - val_accuracy: 0.2431\n",
            "Epoch 111/500\n",
            "8/8 [==============================] - 0s 60ms/step - loss: 13065811.0000 - accuracy: 0.3302 - val_loss: 35119144.0000 - val_accuracy: 0.2431\n",
            "Epoch 112/500\n",
            "8/8 [==============================] - 0s 60ms/step - loss: 12972987.0000 - accuracy: 0.3352 - val_loss: 35041876.0000 - val_accuracy: 0.2456\n",
            "Epoch 113/500\n",
            "8/8 [==============================] - 0s 60ms/step - loss: 12886909.0000 - accuracy: 0.3352 - val_loss: 34950908.0000 - val_accuracy: 0.2431\n",
            "Epoch 114/500\n",
            "8/8 [==============================] - 0s 60ms/step - loss: 12797997.0000 - accuracy: 0.3302 - val_loss: 34843064.0000 - val_accuracy: 0.2456\n",
            "Epoch 115/500\n",
            "8/8 [==============================] - 0s 61ms/step - loss: 12709372.0000 - accuracy: 0.3315 - val_loss: 34772696.0000 - val_accuracy: 0.2456\n",
            "Epoch 116/500\n",
            "8/8 [==============================] - 0s 60ms/step - loss: 12622680.0000 - accuracy: 0.3346 - val_loss: 34694824.0000 - val_accuracy: 0.2431\n",
            "Epoch 117/500\n",
            "8/8 [==============================] - 0s 60ms/step - loss: 12543570.0000 - accuracy: 0.3333 - val_loss: 34589656.0000 - val_accuracy: 0.2431\n",
            "Epoch 118/500\n",
            "8/8 [==============================] - 0s 60ms/step - loss: 12460232.0000 - accuracy: 0.3321 - val_loss: 34530632.0000 - val_accuracy: 0.2431\n",
            "Epoch 119/500\n",
            "8/8 [==============================] - 0s 61ms/step - loss: 12372696.0000 - accuracy: 0.3352 - val_loss: 34474512.0000 - val_accuracy: 0.2431\n",
            "Epoch 120/500\n",
            "8/8 [==============================] - 0s 61ms/step - loss: 12290062.0000 - accuracy: 0.3396 - val_loss: 34359496.0000 - val_accuracy: 0.2431\n",
            "Epoch 121/500\n",
            "8/8 [==============================] - 0s 60ms/step - loss: 12211874.0000 - accuracy: 0.3296 - val_loss: 34247460.0000 - val_accuracy: 0.2406\n",
            "Epoch 122/500\n",
            "8/8 [==============================] - 0s 60ms/step - loss: 12139529.0000 - accuracy: 0.3246 - val_loss: 34159764.0000 - val_accuracy: 0.2431\n",
            "Epoch 123/500\n",
            "8/8 [==============================] - 0s 61ms/step - loss: 12050607.0000 - accuracy: 0.3352 - val_loss: 34111884.0000 - val_accuracy: 0.2431\n",
            "Epoch 124/500\n",
            "8/8 [==============================] - 0s 61ms/step - loss: 11976645.0000 - accuracy: 0.3315 - val_loss: 34008288.0000 - val_accuracy: 0.2431\n",
            "Epoch 125/500\n",
            "8/8 [==============================] - 0s 61ms/step - loss: 11897322.0000 - accuracy: 0.3327 - val_loss: 33926416.0000 - val_accuracy: 0.2431\n",
            "Epoch 126/500\n",
            "8/8 [==============================] - 0s 62ms/step - loss: 11820139.0000 - accuracy: 0.3333 - val_loss: 33886028.0000 - val_accuracy: 0.2406\n",
            "Epoch 127/500\n",
            "8/8 [==============================] - 0s 61ms/step - loss: 11744176.0000 - accuracy: 0.3352 - val_loss: 33767980.0000 - val_accuracy: 0.2431\n",
            "Epoch 128/500\n",
            "8/8 [==============================] - 0s 61ms/step - loss: 11666988.0000 - accuracy: 0.3308 - val_loss: 33679832.0000 - val_accuracy: 0.2431\n",
            "Epoch 129/500\n",
            "8/8 [==============================] - 0s 61ms/step - loss: 11589935.0000 - accuracy: 0.3333 - val_loss: 33612236.0000 - val_accuracy: 0.2431\n",
            "Epoch 130/500\n",
            "8/8 [==============================] - 0s 60ms/step - loss: 11518469.0000 - accuracy: 0.3346 - val_loss: 33532284.0000 - val_accuracy: 0.2481\n",
            "Epoch 131/500\n",
            "8/8 [==============================] - 0s 61ms/step - loss: 11447113.0000 - accuracy: 0.3296 - val_loss: 33470234.0000 - val_accuracy: 0.2481\n",
            "Epoch 132/500\n",
            "8/8 [==============================] - 0s 60ms/step - loss: 11376712.0000 - accuracy: 0.3346 - val_loss: 33403240.0000 - val_accuracy: 0.2481\n",
            "Epoch 133/500\n",
            "8/8 [==============================] - 0s 61ms/step - loss: 11309019.0000 - accuracy: 0.3377 - val_loss: 33340514.0000 - val_accuracy: 0.2481\n",
            "Epoch 134/500\n",
            "8/8 [==============================] - 0s 61ms/step - loss: 11238871.0000 - accuracy: 0.3396 - val_loss: 33283998.0000 - val_accuracy: 0.2481\n",
            "Epoch 135/500\n",
            "8/8 [==============================] - 0s 60ms/step - loss: 11170418.0000 - accuracy: 0.3358 - val_loss: 33192860.0000 - val_accuracy: 0.2456\n",
            "Epoch 136/500\n",
            "8/8 [==============================] - 0s 61ms/step - loss: 11102642.0000 - accuracy: 0.3358 - val_loss: 33131810.0000 - val_accuracy: 0.2456\n",
            "Epoch 137/500\n",
            "8/8 [==============================] - 0s 60ms/step - loss: 11038671.0000 - accuracy: 0.3365 - val_loss: 33046792.0000 - val_accuracy: 0.2456\n",
            "Epoch 138/500\n",
            "8/8 [==============================] - 0s 61ms/step - loss: 10973968.0000 - accuracy: 0.3371 - val_loss: 32989344.0000 - val_accuracy: 0.2481\n",
            "Epoch 139/500\n",
            "8/8 [==============================] - 0s 61ms/step - loss: 10912663.0000 - accuracy: 0.3421 - val_loss: 32937198.0000 - val_accuracy: 0.2481\n",
            "Epoch 140/500\n",
            "8/8 [==============================] - 0s 61ms/step - loss: 10845623.0000 - accuracy: 0.3421 - val_loss: 32852074.0000 - val_accuracy: 0.2506\n",
            "Epoch 141/500\n",
            "8/8 [==============================] - 0s 61ms/step - loss: 10784292.0000 - accuracy: 0.3390 - val_loss: 32803180.0000 - val_accuracy: 0.2506\n",
            "Epoch 142/500\n",
            "8/8 [==============================] - 0s 61ms/step - loss: 10720855.0000 - accuracy: 0.3427 - val_loss: 32748936.0000 - val_accuracy: 0.2531\n",
            "Epoch 143/500\n",
            "8/8 [==============================] - 0s 61ms/step - loss: 10659732.0000 - accuracy: 0.3446 - val_loss: 32677888.0000 - val_accuracy: 0.2506\n",
            "Epoch 144/500\n",
            "8/8 [==============================] - 0s 61ms/step - loss: 10602416.0000 - accuracy: 0.3415 - val_loss: 32638576.0000 - val_accuracy: 0.2506\n",
            "Epoch 145/500\n",
            "8/8 [==============================] - 0s 61ms/step - loss: 10542600.0000 - accuracy: 0.3446 - val_loss: 32554356.0000 - val_accuracy: 0.2481\n",
            "Epoch 146/500\n",
            "8/8 [==============================] - 0s 62ms/step - loss: 10483860.0000 - accuracy: 0.3477 - val_loss: 32517734.0000 - val_accuracy: 0.2506\n",
            "Epoch 147/500\n",
            "8/8 [==============================] - 0s 62ms/step - loss: 10425823.0000 - accuracy: 0.3446 - val_loss: 32449564.0000 - val_accuracy: 0.2481\n",
            "Epoch 148/500\n",
            "8/8 [==============================] - 0s 61ms/step - loss: 10369179.0000 - accuracy: 0.3477 - val_loss: 32384524.0000 - val_accuracy: 0.2506\n",
            "Epoch 149/500\n",
            "8/8 [==============================] - 0s 62ms/step - loss: 10309887.0000 - accuracy: 0.3484 - val_loss: 32325146.0000 - val_accuracy: 0.2506\n",
            "Epoch 150/500\n",
            "8/8 [==============================] - 0s 61ms/step - loss: 10255099.0000 - accuracy: 0.3452 - val_loss: 32264358.0000 - val_accuracy: 0.2481\n",
            "Epoch 151/500\n",
            "8/8 [==============================] - 0s 61ms/step - loss: 10201763.0000 - accuracy: 0.3503 - val_loss: 32209486.0000 - val_accuracy: 0.2506\n",
            "Epoch 152/500\n",
            "8/8 [==============================] - 0s 61ms/step - loss: 10152503.0000 - accuracy: 0.3477 - val_loss: 32152468.0000 - val_accuracy: 0.2506\n",
            "Epoch 153/500\n",
            "8/8 [==============================] - 0s 61ms/step - loss: 10094151.0000 - accuracy: 0.3515 - val_loss: 32081756.0000 - val_accuracy: 0.2506\n",
            "Epoch 154/500\n",
            "8/8 [==============================] - 0s 61ms/step - loss: 10039701.0000 - accuracy: 0.3509 - val_loss: 32037930.0000 - val_accuracy: 0.2506\n",
            "Epoch 155/500\n",
            "8/8 [==============================] - 0s 61ms/step - loss: 9987340.0000 - accuracy: 0.3459 - val_loss: 31970292.0000 - val_accuracy: 0.2506\n",
            "Epoch 156/500\n",
            "8/8 [==============================] - 0s 62ms/step - loss: 9935071.0000 - accuracy: 0.3509 - val_loss: 31925880.0000 - val_accuracy: 0.2506\n",
            "Epoch 157/500\n",
            "8/8 [==============================] - 0s 62ms/step - loss: 9885544.0000 - accuracy: 0.3509 - val_loss: 31876416.0000 - val_accuracy: 0.2506\n",
            "Epoch 158/500\n",
            "8/8 [==============================] - 0s 61ms/step - loss: 9833926.0000 - accuracy: 0.3521 - val_loss: 31835338.0000 - val_accuracy: 0.2506\n",
            "Epoch 159/500\n",
            "8/8 [==============================] - 0s 61ms/step - loss: 9787143.0000 - accuracy: 0.3553 - val_loss: 31780278.0000 - val_accuracy: 0.2506\n",
            "Epoch 160/500\n",
            "8/8 [==============================] - 0s 61ms/step - loss: 9737053.0000 - accuracy: 0.3546 - val_loss: 31730084.0000 - val_accuracy: 0.2506\n",
            "Epoch 161/500\n",
            "8/8 [==============================] - 0s 62ms/step - loss: 9692956.0000 - accuracy: 0.3553 - val_loss: 31689576.0000 - val_accuracy: 0.2506\n",
            "Epoch 162/500\n",
            "8/8 [==============================] - 0s 61ms/step - loss: 9651296.0000 - accuracy: 0.3578 - val_loss: 31633674.0000 - val_accuracy: 0.2506\n",
            "Epoch 163/500\n",
            "8/8 [==============================] - 0s 62ms/step - loss: 9610563.0000 - accuracy: 0.3540 - val_loss: 31594576.0000 - val_accuracy: 0.2506\n",
            "Epoch 164/500\n",
            "8/8 [==============================] - 0s 61ms/step - loss: 9569006.0000 - accuracy: 0.3534 - val_loss: 31555686.0000 - val_accuracy: 0.2506\n",
            "Epoch 165/500\n",
            "8/8 [==============================] - 0s 61ms/step - loss: 9527536.0000 - accuracy: 0.3571 - val_loss: 31509682.0000 - val_accuracy: 0.2506\n",
            "Epoch 166/500\n",
            "8/8 [==============================] - 0s 61ms/step - loss: 9487202.0000 - accuracy: 0.3596 - val_loss: 31457958.0000 - val_accuracy: 0.2506\n",
            "Epoch 167/500\n",
            "8/8 [==============================] - 1s 63ms/step - loss: 9447772.0000 - accuracy: 0.3559 - val_loss: 31414220.0000 - val_accuracy: 0.2506\n",
            "Epoch 168/500\n",
            "8/8 [==============================] - 0s 62ms/step - loss: 9405856.0000 - accuracy: 0.3634 - val_loss: 31375130.0000 - val_accuracy: 0.2506\n",
            "Epoch 169/500\n",
            "8/8 [==============================] - 0s 62ms/step - loss: 9368409.0000 - accuracy: 0.3578 - val_loss: 31322022.0000 - val_accuracy: 0.2506\n",
            "Epoch 170/500\n",
            "8/8 [==============================] - 1s 63ms/step - loss: 9328435.0000 - accuracy: 0.3603 - val_loss: 31315218.0000 - val_accuracy: 0.2506\n",
            "Epoch 171/500\n",
            "8/8 [==============================] - 0s 61ms/step - loss: 9290722.0000 - accuracy: 0.3615 - val_loss: 31258958.0000 - val_accuracy: 0.2506\n",
            "Epoch 172/500\n",
            "8/8 [==============================] - 1s 63ms/step - loss: 9253381.0000 - accuracy: 0.3596 - val_loss: 31199694.0000 - val_accuracy: 0.2506\n",
            "Epoch 173/500\n",
            "8/8 [==============================] - 1s 63ms/step - loss: 9212440.0000 - accuracy: 0.3603 - val_loss: 31164328.0000 - val_accuracy: 0.2506\n",
            "Epoch 174/500\n",
            "8/8 [==============================] - 1s 63ms/step - loss: 9175387.0000 - accuracy: 0.3615 - val_loss: 31135616.0000 - val_accuracy: 0.2506\n",
            "Epoch 175/500\n",
            "8/8 [==============================] - 0s 62ms/step - loss: 9137686.0000 - accuracy: 0.3609 - val_loss: 31081838.0000 - val_accuracy: 0.2481\n",
            "Epoch 176/500\n",
            "8/8 [==============================] - 0s 62ms/step - loss: 9099804.0000 - accuracy: 0.3596 - val_loss: 31055330.0000 - val_accuracy: 0.2481\n",
            "Epoch 177/500\n",
            "8/8 [==============================] - 1s 63ms/step - loss: 9064207.0000 - accuracy: 0.3596 - val_loss: 31018398.0000 - val_accuracy: 0.2481\n",
            "Epoch 178/500\n",
            "8/8 [==============================] - 0s 62ms/step - loss: 9026976.0000 - accuracy: 0.3672 - val_loss: 30990444.0000 - val_accuracy: 0.2481\n",
            "Epoch 179/500\n",
            "8/8 [==============================] - 0s 62ms/step - loss: 8991606.0000 - accuracy: 0.3653 - val_loss: 30934732.0000 - val_accuracy: 0.2481\n",
            "Epoch 180/500\n",
            "8/8 [==============================] - 0s 62ms/step - loss: 8958515.0000 - accuracy: 0.3590 - val_loss: 30892570.0000 - val_accuracy: 0.2506\n",
            "Epoch 181/500\n",
            "8/8 [==============================] - 0s 62ms/step - loss: 8921002.0000 - accuracy: 0.3647 - val_loss: 30878614.0000 - val_accuracy: 0.2531\n",
            "Epoch 182/500\n",
            "8/8 [==============================] - 0s 61ms/step - loss: 8885902.0000 - accuracy: 0.3634 - val_loss: 30828292.0000 - val_accuracy: 0.2481\n",
            "Epoch 183/500\n",
            "8/8 [==============================] - 1s 63ms/step - loss: 8853438.0000 - accuracy: 0.3659 - val_loss: 30800694.0000 - val_accuracy: 0.2506\n",
            "Epoch 184/500\n",
            "8/8 [==============================] - 1s 63ms/step - loss: 8818590.0000 - accuracy: 0.3622 - val_loss: 30756286.0000 - val_accuracy: 0.2506\n",
            "Epoch 185/500\n",
            "8/8 [==============================] - 0s 61ms/step - loss: 8785679.0000 - accuracy: 0.3647 - val_loss: 30731492.0000 - val_accuracy: 0.2506\n",
            "Epoch 186/500\n",
            "8/8 [==============================] - 0s 62ms/step - loss: 8752544.0000 - accuracy: 0.3659 - val_loss: 30686462.0000 - val_accuracy: 0.2506\n",
            "Epoch 187/500\n",
            "8/8 [==============================] - 0s 62ms/step - loss: 8722685.0000 - accuracy: 0.3640 - val_loss: 30639784.0000 - val_accuracy: 0.2506\n",
            "Epoch 188/500\n",
            "8/8 [==============================] - 1s 63ms/step - loss: 8686840.0000 - accuracy: 0.3628 - val_loss: 30626080.0000 - val_accuracy: 0.2506\n",
            "Epoch 189/500\n",
            "8/8 [==============================] - 0s 61ms/step - loss: 8655400.0000 - accuracy: 0.3716 - val_loss: 30591356.0000 - val_accuracy: 0.2506\n",
            "Epoch 190/500\n",
            "8/8 [==============================] - 0s 61ms/step - loss: 8624242.0000 - accuracy: 0.3672 - val_loss: 30555154.0000 - val_accuracy: 0.2481\n",
            "Epoch 191/500\n",
            "8/8 [==============================] - 1s 63ms/step - loss: 8590867.0000 - accuracy: 0.3728 - val_loss: 30540408.0000 - val_accuracy: 0.2481\n",
            "Epoch 192/500\n",
            "8/8 [==============================] - 0s 61ms/step - loss: 8563109.0000 - accuracy: 0.3728 - val_loss: 30476852.0000 - val_accuracy: 0.2481\n",
            "Epoch 193/500\n",
            "8/8 [==============================] - 0s 62ms/step - loss: 8530454.0000 - accuracy: 0.3703 - val_loss: 30465278.0000 - val_accuracy: 0.2481\n",
            "Epoch 194/500\n",
            "8/8 [==============================] - 0s 62ms/step - loss: 8500422.0000 - accuracy: 0.3684 - val_loss: 30427752.0000 - val_accuracy: 0.2481\n",
            "Epoch 195/500\n",
            "8/8 [==============================] - 0s 61ms/step - loss: 8469446.0000 - accuracy: 0.3716 - val_loss: 30382856.0000 - val_accuracy: 0.2481\n",
            "Epoch 196/500\n",
            "8/8 [==============================] - 0s 62ms/step - loss: 8441236.0000 - accuracy: 0.3722 - val_loss: 30355000.0000 - val_accuracy: 0.2481\n",
            "Epoch 197/500\n",
            "8/8 [==============================] - 0s 61ms/step - loss: 8409004.0000 - accuracy: 0.3672 - val_loss: 30298662.0000 - val_accuracy: 0.2481\n",
            "Epoch 198/500\n",
            "8/8 [==============================] - 0s 61ms/step - loss: 8379693.0000 - accuracy: 0.3678 - val_loss: 30273012.0000 - val_accuracy: 0.2506\n",
            "Epoch 199/500\n",
            "8/8 [==============================] - 0s 62ms/step - loss: 8349922.5000 - accuracy: 0.3690 - val_loss: 30243770.0000 - val_accuracy: 0.2506\n",
            "Epoch 200/500\n",
            "8/8 [==============================] - 0s 62ms/step - loss: 8322070.5000 - accuracy: 0.3703 - val_loss: 30197904.0000 - val_accuracy: 0.2506\n",
            "Epoch 201/500\n",
            "8/8 [==============================] - 0s 62ms/step - loss: 8293517.0000 - accuracy: 0.3716 - val_loss: 30156636.0000 - val_accuracy: 0.2506\n",
            "Epoch 202/500\n",
            "8/8 [==============================] - 0s 61ms/step - loss: 8265034.5000 - accuracy: 0.3797 - val_loss: 30146684.0000 - val_accuracy: 0.2506\n",
            "Epoch 203/500\n",
            "8/8 [==============================] - 0s 62ms/step - loss: 8236571.5000 - accuracy: 0.3791 - val_loss: 30101278.0000 - val_accuracy: 0.2506\n",
            "Epoch 204/500\n",
            "8/8 [==============================] - 0s 62ms/step - loss: 8206837.0000 - accuracy: 0.3766 - val_loss: 30079220.0000 - val_accuracy: 0.2506\n",
            "Epoch 205/500\n",
            "8/8 [==============================] - 0s 62ms/step - loss: 8179868.0000 - accuracy: 0.3778 - val_loss: 30041786.0000 - val_accuracy: 0.2506\n",
            "Epoch 206/500\n",
            "8/8 [==============================] - 0s 62ms/step - loss: 8152302.5000 - accuracy: 0.3822 - val_loss: 30015036.0000 - val_accuracy: 0.2506\n",
            "Epoch 207/500\n",
            "8/8 [==============================] - 0s 62ms/step - loss: 8126033.5000 - accuracy: 0.3778 - val_loss: 29987412.0000 - val_accuracy: 0.2506\n",
            "Epoch 208/500\n",
            "8/8 [==============================] - 0s 61ms/step - loss: 8100173.5000 - accuracy: 0.3816 - val_loss: 29967070.0000 - val_accuracy: 0.2506\n",
            "Epoch 209/500\n",
            "8/8 [==============================] - 1s 63ms/step - loss: 8073790.0000 - accuracy: 0.3822 - val_loss: 29936784.0000 - val_accuracy: 0.2506\n",
            "Epoch 210/500\n",
            "8/8 [==============================] - 0s 61ms/step - loss: 8050367.0000 - accuracy: 0.3797 - val_loss: 29910218.0000 - val_accuracy: 0.2506\n",
            "Epoch 211/500\n",
            "8/8 [==============================] - 0s 61ms/step - loss: 8024769.0000 - accuracy: 0.3835 - val_loss: 29901118.0000 - val_accuracy: 0.2506\n",
            "Epoch 212/500\n",
            "8/8 [==============================] - 0s 61ms/step - loss: 7999880.5000 - accuracy: 0.3816 - val_loss: 29857974.0000 - val_accuracy: 0.2506\n",
            "Epoch 213/500\n",
            "8/8 [==============================] - 0s 61ms/step - loss: 7975831.0000 - accuracy: 0.3816 - val_loss: 29834346.0000 - val_accuracy: 0.2506\n",
            "Epoch 214/500\n",
            "8/8 [==============================] - 0s 61ms/step - loss: 7949932.5000 - accuracy: 0.3872 - val_loss: 29812156.0000 - val_accuracy: 0.2506\n",
            "Epoch 215/500\n",
            "8/8 [==============================] - 0s 62ms/step - loss: 7927176.0000 - accuracy: 0.3816 - val_loss: 29793544.0000 - val_accuracy: 0.2506\n",
            "Epoch 216/500\n",
            "8/8 [==============================] - 0s 61ms/step - loss: 7902081.5000 - accuracy: 0.3816 - val_loss: 29759458.0000 - val_accuracy: 0.2506\n",
            "Epoch 217/500\n",
            "8/8 [==============================] - 0s 62ms/step - loss: 7879083.5000 - accuracy: 0.3803 - val_loss: 29737504.0000 - val_accuracy: 0.2506\n",
            "Epoch 218/500\n",
            "8/8 [==============================] - 0s 62ms/step - loss: 7852883.5000 - accuracy: 0.3860 - val_loss: 29721692.0000 - val_accuracy: 0.2481\n",
            "Epoch 219/500\n",
            "8/8 [==============================] - 0s 61ms/step - loss: 7828777.0000 - accuracy: 0.3872 - val_loss: 29689884.0000 - val_accuracy: 0.2481\n",
            "Epoch 220/500\n",
            "8/8 [==============================] - 0s 61ms/step - loss: 7805628.0000 - accuracy: 0.3828 - val_loss: 29652922.0000 - val_accuracy: 0.2481\n",
            "Epoch 221/500\n",
            "8/8 [==============================] - 0s 62ms/step - loss: 7780609.5000 - accuracy: 0.3847 - val_loss: 29637416.0000 - val_accuracy: 0.2481\n",
            "Epoch 222/500\n",
            "8/8 [==============================] - 0s 61ms/step - loss: 7757099.0000 - accuracy: 0.3841 - val_loss: 29611278.0000 - val_accuracy: 0.2481\n",
            "Epoch 223/500\n",
            "8/8 [==============================] - 1s 63ms/step - loss: 7733644.0000 - accuracy: 0.3822 - val_loss: 29583318.0000 - val_accuracy: 0.2506\n",
            "Epoch 224/500\n",
            "8/8 [==============================] - 0s 61ms/step - loss: 7710168.0000 - accuracy: 0.3860 - val_loss: 29562036.0000 - val_accuracy: 0.2481\n",
            "Epoch 225/500\n",
            "8/8 [==============================] - 0s 62ms/step - loss: 7687563.0000 - accuracy: 0.3866 - val_loss: 29534272.0000 - val_accuracy: 0.2481\n",
            "Epoch 226/500\n",
            "8/8 [==============================] - 0s 61ms/step - loss: 7663763.5000 - accuracy: 0.3866 - val_loss: 29506506.0000 - val_accuracy: 0.2481\n",
            "Epoch 227/500\n",
            "8/8 [==============================] - 1s 63ms/step - loss: 7643080.0000 - accuracy: 0.3866 - val_loss: 29481464.0000 - val_accuracy: 0.2506\n",
            "Epoch 228/500\n",
            "8/8 [==============================] - 0s 62ms/step - loss: 7620481.5000 - accuracy: 0.3847 - val_loss: 29452638.0000 - val_accuracy: 0.2506\n",
            "Epoch 229/500\n",
            "8/8 [==============================] - 0s 61ms/step - loss: 7598363.0000 - accuracy: 0.3860 - val_loss: 29441530.0000 - val_accuracy: 0.2506\n",
            "Epoch 230/500\n",
            "8/8 [==============================] - 0s 61ms/step - loss: 7575001.5000 - accuracy: 0.3897 - val_loss: 29415132.0000 - val_accuracy: 0.2506\n",
            "Epoch 231/500\n",
            "8/8 [==============================] - 0s 61ms/step - loss: 7553073.5000 - accuracy: 0.3897 - val_loss: 29385392.0000 - val_accuracy: 0.2506\n",
            "Epoch 232/500\n",
            "8/8 [==============================] - 0s 61ms/step - loss: 7531152.5000 - accuracy: 0.3885 - val_loss: 29372872.0000 - val_accuracy: 0.2506\n",
            "Epoch 233/500\n",
            "8/8 [==============================] - 0s 61ms/step - loss: 7509694.5000 - accuracy: 0.3878 - val_loss: 29345088.0000 - val_accuracy: 0.2506\n",
            "Epoch 234/500\n",
            "8/8 [==============================] - 0s 62ms/step - loss: 7488611.0000 - accuracy: 0.3816 - val_loss: 29325662.0000 - val_accuracy: 0.2506\n",
            "Epoch 235/500\n",
            "8/8 [==============================] - 0s 62ms/step - loss: 7466389.0000 - accuracy: 0.3835 - val_loss: 29308060.0000 - val_accuracy: 0.2506\n",
            "Epoch 236/500\n",
            "8/8 [==============================] - 0s 61ms/step - loss: 7445616.5000 - accuracy: 0.3916 - val_loss: 29283470.0000 - val_accuracy: 0.2506\n",
            "Epoch 237/500\n",
            "8/8 [==============================] - 0s 62ms/step - loss: 7422327.5000 - accuracy: 0.3878 - val_loss: 29249654.0000 - val_accuracy: 0.2506\n",
            "Epoch 238/500\n",
            "8/8 [==============================] - 0s 62ms/step - loss: 7401444.5000 - accuracy: 0.3910 - val_loss: 29235246.0000 - val_accuracy: 0.2481\n",
            "Epoch 239/500\n",
            "8/8 [==============================] - 0s 62ms/step - loss: 7379467.5000 - accuracy: 0.3922 - val_loss: 29206338.0000 - val_accuracy: 0.2481\n",
            "Epoch 240/500\n",
            "8/8 [==============================] - 0s 61ms/step - loss: 7360086.0000 - accuracy: 0.3860 - val_loss: 29210146.0000 - val_accuracy: 0.2481\n",
            "Epoch 241/500\n",
            "8/8 [==============================] - 0s 62ms/step - loss: 7338807.0000 - accuracy: 0.3922 - val_loss: 29178724.0000 - val_accuracy: 0.2481\n",
            "Epoch 242/500\n",
            "8/8 [==============================] - 0s 61ms/step - loss: 7316839.5000 - accuracy: 0.3885 - val_loss: 29151134.0000 - val_accuracy: 0.2481\n",
            "Epoch 243/500\n",
            "8/8 [==============================] - 0s 60ms/step - loss: 7296014.0000 - accuracy: 0.3897 - val_loss: 29121340.0000 - val_accuracy: 0.2481\n",
            "Epoch 244/500\n",
            "8/8 [==============================] - 0s 62ms/step - loss: 7276283.5000 - accuracy: 0.3853 - val_loss: 29111540.0000 - val_accuracy: 0.2456\n",
            "Epoch 245/500\n",
            "8/8 [==============================] - 0s 61ms/step - loss: 7254746.0000 - accuracy: 0.3929 - val_loss: 29081856.0000 - val_accuracy: 0.2481\n",
            "Epoch 246/500\n",
            "8/8 [==============================] - 0s 62ms/step - loss: 7235549.5000 - accuracy: 0.3891 - val_loss: 29057408.0000 - val_accuracy: 0.2481\n",
            "Epoch 247/500\n",
            "8/8 [==============================] - 0s 61ms/step - loss: 7214196.0000 - accuracy: 0.3904 - val_loss: 29050718.0000 - val_accuracy: 0.2481\n",
            "Epoch 248/500\n",
            "8/8 [==============================] - 0s 62ms/step - loss: 7193215.5000 - accuracy: 0.3922 - val_loss: 29022378.0000 - val_accuracy: 0.2481\n",
            "Epoch 249/500\n",
            "8/8 [==============================] - 0s 60ms/step - loss: 7172492.5000 - accuracy: 0.3904 - val_loss: 28986324.0000 - val_accuracy: 0.2481\n",
            "Epoch 250/500\n",
            "8/8 [==============================] - 0s 61ms/step - loss: 7151895.0000 - accuracy: 0.3922 - val_loss: 28981486.0000 - val_accuracy: 0.2481\n",
            "Epoch 251/500\n",
            "8/8 [==============================] - 0s 61ms/step - loss: 7131959.0000 - accuracy: 0.3941 - val_loss: 28963722.0000 - val_accuracy: 0.2481\n",
            "Epoch 252/500\n",
            "8/8 [==============================] - 0s 62ms/step - loss: 7112808.5000 - accuracy: 0.3941 - val_loss: 28946416.0000 - val_accuracy: 0.2481\n",
            "Epoch 253/500\n",
            "8/8 [==============================] - 0s 62ms/step - loss: 7092611.5000 - accuracy: 0.3935 - val_loss: 28924238.0000 - val_accuracy: 0.2481\n",
            "Epoch 254/500\n",
            "8/8 [==============================] - 0s 61ms/step - loss: 7072740.5000 - accuracy: 0.3947 - val_loss: 28889906.0000 - val_accuracy: 0.2481\n",
            "Epoch 255/500\n",
            "8/8 [==============================] - 0s 60ms/step - loss: 7053040.0000 - accuracy: 0.3922 - val_loss: 28879248.0000 - val_accuracy: 0.2481\n",
            "Epoch 256/500\n",
            "8/8 [==============================] - 0s 61ms/step - loss: 7033538.0000 - accuracy: 0.3941 - val_loss: 28867040.0000 - val_accuracy: 0.2481\n",
            "Epoch 257/500\n",
            "8/8 [==============================] - 0s 62ms/step - loss: 7014238.5000 - accuracy: 0.3960 - val_loss: 28845102.0000 - val_accuracy: 0.2481\n",
            "Epoch 258/500\n",
            "8/8 [==============================] - 0s 61ms/step - loss: 6994894.5000 - accuracy: 0.3929 - val_loss: 28828130.0000 - val_accuracy: 0.2481\n",
            "Epoch 259/500\n",
            "8/8 [==============================] - 0s 60ms/step - loss: 6975686.5000 - accuracy: 0.3972 - val_loss: 28802604.0000 - val_accuracy: 0.2506\n",
            "Epoch 260/500\n",
            "8/8 [==============================] - 0s 61ms/step - loss: 6956830.0000 - accuracy: 0.3966 - val_loss: 28786598.0000 - val_accuracy: 0.2506\n",
            "Epoch 261/500\n",
            "8/8 [==============================] - 0s 61ms/step - loss: 6938322.5000 - accuracy: 0.3966 - val_loss: 28761088.0000 - val_accuracy: 0.2506\n",
            "Epoch 262/500\n",
            "8/8 [==============================] - 0s 62ms/step - loss: 6919469.5000 - accuracy: 0.3991 - val_loss: 28746470.0000 - val_accuracy: 0.2481\n",
            "Epoch 263/500\n",
            "8/8 [==============================] - 0s 61ms/step - loss: 6901366.0000 - accuracy: 0.3941 - val_loss: 28729744.0000 - val_accuracy: 0.2481\n",
            "Epoch 264/500\n",
            "8/8 [==============================] - 0s 61ms/step - loss: 6882746.0000 - accuracy: 0.3991 - val_loss: 28713704.0000 - val_accuracy: 0.2481\n",
            "Epoch 265/500\n",
            "8/8 [==============================] - 0s 61ms/step - loss: 6864309.0000 - accuracy: 0.3997 - val_loss: 28696576.0000 - val_accuracy: 0.2481\n",
            "Epoch 266/500\n",
            "8/8 [==============================] - 0s 62ms/step - loss: 6847241.5000 - accuracy: 0.3991 - val_loss: 28688862.0000 - val_accuracy: 0.2481\n",
            "Epoch 267/500\n",
            "8/8 [==============================] - 0s 62ms/step - loss: 6829846.0000 - accuracy: 0.3979 - val_loss: 28667612.0000 - val_accuracy: 0.2481\n",
            "Epoch 268/500\n",
            "8/8 [==============================] - 0s 62ms/step - loss: 6812047.5000 - accuracy: 0.3910 - val_loss: 28634340.0000 - val_accuracy: 0.2481\n",
            "Epoch 269/500\n",
            "8/8 [==============================] - 0s 61ms/step - loss: 6793368.5000 - accuracy: 0.4023 - val_loss: 28621904.0000 - val_accuracy: 0.2481\n",
            "Epoch 270/500\n",
            "8/8 [==============================] - 0s 61ms/step - loss: 6776029.5000 - accuracy: 0.3991 - val_loss: 28604708.0000 - val_accuracy: 0.2481\n",
            "Epoch 271/500\n",
            "8/8 [==============================] - 0s 62ms/step - loss: 6757119.5000 - accuracy: 0.4010 - val_loss: 28574722.0000 - val_accuracy: 0.2481\n",
            "Epoch 272/500\n",
            "8/8 [==============================] - 0s 61ms/step - loss: 6739306.0000 - accuracy: 0.3985 - val_loss: 28566086.0000 - val_accuracy: 0.2481\n",
            "Epoch 273/500\n",
            "8/8 [==============================] - 0s 61ms/step - loss: 6721702.0000 - accuracy: 0.3922 - val_loss: 28547362.0000 - val_accuracy: 0.2481\n",
            "Epoch 274/500\n",
            "8/8 [==============================] - 0s 61ms/step - loss: 6703117.5000 - accuracy: 0.4023 - val_loss: 28523484.0000 - val_accuracy: 0.2481\n",
            "Epoch 275/500\n",
            "8/8 [==============================] - 0s 61ms/step - loss: 6686365.0000 - accuracy: 0.3985 - val_loss: 28499726.0000 - val_accuracy: 0.2456\n",
            "Epoch 276/500\n",
            "8/8 [==============================] - 0s 61ms/step - loss: 6668119.5000 - accuracy: 0.3979 - val_loss: 28495204.0000 - val_accuracy: 0.2481\n",
            "Epoch 277/500\n",
            "8/8 [==============================] - 0s 61ms/step - loss: 6650760.5000 - accuracy: 0.3960 - val_loss: 28464298.0000 - val_accuracy: 0.2481\n",
            "Epoch 278/500\n",
            "8/8 [==============================] - 0s 62ms/step - loss: 6634497.5000 - accuracy: 0.3929 - val_loss: 28454224.0000 - val_accuracy: 0.2506\n",
            "Epoch 279/500\n",
            "8/8 [==============================] - 0s 61ms/step - loss: 6616891.5000 - accuracy: 0.4029 - val_loss: 28440088.0000 - val_accuracy: 0.2506\n",
            "Epoch 280/500\n",
            "8/8 [==============================] - 0s 62ms/step - loss: 6600523.0000 - accuracy: 0.4004 - val_loss: 28411766.0000 - val_accuracy: 0.2506\n",
            "Epoch 281/500\n",
            "8/8 [==============================] - 0s 61ms/step - loss: 6581223.5000 - accuracy: 0.4016 - val_loss: 28400190.0000 - val_accuracy: 0.2506\n",
            "Epoch 282/500\n",
            "8/8 [==============================] - 1s 63ms/step - loss: 6564915.5000 - accuracy: 0.4004 - val_loss: 28381014.0000 - val_accuracy: 0.2481\n",
            "Epoch 283/500\n",
            "8/8 [==============================] - 0s 61ms/step - loss: 6548697.0000 - accuracy: 0.4004 - val_loss: 28362342.0000 - val_accuracy: 0.2506\n",
            "Epoch 284/500\n",
            "8/8 [==============================] - 0s 61ms/step - loss: 6530349.0000 - accuracy: 0.4073 - val_loss: 28341292.0000 - val_accuracy: 0.2506\n",
            "Epoch 285/500\n",
            "8/8 [==============================] - 0s 60ms/step - loss: 6514563.0000 - accuracy: 0.3985 - val_loss: 28324078.0000 - val_accuracy: 0.2506\n",
            "Epoch 286/500\n",
            "8/8 [==============================] - 0s 61ms/step - loss: 6497905.5000 - accuracy: 0.4054 - val_loss: 28305674.0000 - val_accuracy: 0.2506\n",
            "Epoch 287/500\n",
            "8/8 [==============================] - 0s 61ms/step - loss: 6481591.0000 - accuracy: 0.4023 - val_loss: 28285396.0000 - val_accuracy: 0.2506\n",
            "Epoch 288/500\n",
            "8/8 [==============================] - 0s 62ms/step - loss: 6465428.0000 - accuracy: 0.4004 - val_loss: 28287238.0000 - val_accuracy: 0.2506\n",
            "Epoch 289/500\n",
            "8/8 [==============================] - 0s 62ms/step - loss: 6450026.5000 - accuracy: 0.4060 - val_loss: 28254686.0000 - val_accuracy: 0.2506\n",
            "Epoch 290/500\n",
            "8/8 [==============================] - 0s 60ms/step - loss: 6432424.0000 - accuracy: 0.4004 - val_loss: 28229462.0000 - val_accuracy: 0.2481\n",
            "Epoch 291/500\n",
            "8/8 [==============================] - 0s 61ms/step - loss: 6416620.0000 - accuracy: 0.4010 - val_loss: 28215184.0000 - val_accuracy: 0.2531\n",
            "Epoch 292/500\n",
            "8/8 [==============================] - 0s 61ms/step - loss: 6399927.5000 - accuracy: 0.4023 - val_loss: 28204304.0000 - val_accuracy: 0.2531\n",
            "Epoch 293/500\n",
            "8/8 [==============================] - 0s 62ms/step - loss: 6383410.5000 - accuracy: 0.4035 - val_loss: 28171724.0000 - val_accuracy: 0.2506\n",
            "Epoch 294/500\n",
            "8/8 [==============================] - 0s 62ms/step - loss: 6369071.0000 - accuracy: 0.3997 - val_loss: 28164682.0000 - val_accuracy: 0.2531\n",
            "Epoch 295/500\n",
            "8/8 [==============================] - 0s 61ms/step - loss: 6353915.0000 - accuracy: 0.4035 - val_loss: 28146934.0000 - val_accuracy: 0.2531\n",
            "Epoch 296/500\n",
            "8/8 [==============================] - 0s 61ms/step - loss: 6337169.0000 - accuracy: 0.4054 - val_loss: 28119248.0000 - val_accuracy: 0.2531\n",
            "Epoch 297/500\n",
            "8/8 [==============================] - 0s 61ms/step - loss: 6322083.0000 - accuracy: 0.4048 - val_loss: 28105474.0000 - val_accuracy: 0.2506\n",
            "Epoch 298/500\n",
            "8/8 [==============================] - 0s 60ms/step - loss: 6306462.5000 - accuracy: 0.4035 - val_loss: 28092920.0000 - val_accuracy: 0.2506\n",
            "Epoch 299/500\n",
            "8/8 [==============================] - 0s 61ms/step - loss: 6290615.0000 - accuracy: 0.4085 - val_loss: 28070412.0000 - val_accuracy: 0.2506\n",
            "Epoch 300/500\n",
            "8/8 [==============================] - 0s 61ms/step - loss: 6274753.0000 - accuracy: 0.4079 - val_loss: 28057524.0000 - val_accuracy: 0.2506\n",
            "Epoch 301/500\n",
            "8/8 [==============================] - 0s 60ms/step - loss: 6259607.0000 - accuracy: 0.4060 - val_loss: 28034620.0000 - val_accuracy: 0.2506\n",
            "Epoch 302/500\n",
            "8/8 [==============================] - 0s 61ms/step - loss: 6244170.0000 - accuracy: 0.4066 - val_loss: 28010762.0000 - val_accuracy: 0.2481\n",
            "Epoch 303/500\n",
            "8/8 [==============================] - 0s 62ms/step - loss: 6229667.5000 - accuracy: 0.4035 - val_loss: 27996716.0000 - val_accuracy: 0.2481\n",
            "Epoch 304/500\n",
            "8/8 [==============================] - 0s 61ms/step - loss: 6214579.5000 - accuracy: 0.4066 - val_loss: 27985088.0000 - val_accuracy: 0.2456\n",
            "Epoch 305/500\n",
            "8/8 [==============================] - 0s 61ms/step - loss: 6198752.5000 - accuracy: 0.4066 - val_loss: 27962058.0000 - val_accuracy: 0.2481\n",
            "Epoch 306/500\n",
            "8/8 [==============================] - 0s 61ms/step - loss: 6184597.0000 - accuracy: 0.4060 - val_loss: 27950608.0000 - val_accuracy: 0.2481\n",
            "Epoch 307/500\n",
            "8/8 [==============================] - 0s 61ms/step - loss: 6169378.0000 - accuracy: 0.4104 - val_loss: 27944786.0000 - val_accuracy: 0.2481\n",
            "Epoch 308/500\n",
            "8/8 [==============================] - 0s 62ms/step - loss: 6154812.5000 - accuracy: 0.4110 - val_loss: 27917104.0000 - val_accuracy: 0.2481\n",
            "Epoch 309/500\n",
            "8/8 [==============================] - 0s 62ms/step - loss: 6140955.5000 - accuracy: 0.4060 - val_loss: 27912198.0000 - val_accuracy: 0.2456\n",
            "Epoch 310/500\n",
            "8/8 [==============================] - 0s 61ms/step - loss: 6126993.0000 - accuracy: 0.4041 - val_loss: 27886296.0000 - val_accuracy: 0.2456\n",
            "Epoch 311/500\n",
            "8/8 [==============================] - 0s 62ms/step - loss: 6111682.0000 - accuracy: 0.4117 - val_loss: 27867664.0000 - val_accuracy: 0.2481\n",
            "Epoch 312/500\n",
            "8/8 [==============================] - 0s 61ms/step - loss: 6098144.5000 - accuracy: 0.4091 - val_loss: 27852400.0000 - val_accuracy: 0.2456\n",
            "Epoch 313/500\n",
            "8/8 [==============================] - 0s 61ms/step - loss: 6083007.0000 - accuracy: 0.4117 - val_loss: 27826944.0000 - val_accuracy: 0.2481\n",
            "Epoch 314/500\n",
            "8/8 [==============================] - 0s 60ms/step - loss: 6069565.0000 - accuracy: 0.4117 - val_loss: 27812718.0000 - val_accuracy: 0.2481\n",
            "Epoch 315/500\n",
            "8/8 [==============================] - 0s 62ms/step - loss: 6055356.5000 - accuracy: 0.4110 - val_loss: 27797718.0000 - val_accuracy: 0.2456\n",
            "Epoch 316/500\n",
            "8/8 [==============================] - 0s 61ms/step - loss: 6041959.5000 - accuracy: 0.4104 - val_loss: 27777850.0000 - val_accuracy: 0.2481\n",
            "Epoch 317/500\n",
            "8/8 [==============================] - 0s 60ms/step - loss: 6027661.0000 - accuracy: 0.4148 - val_loss: 27758480.0000 - val_accuracy: 0.2481\n",
            "Epoch 318/500\n",
            "8/8 [==============================] - 0s 61ms/step - loss: 6014126.0000 - accuracy: 0.4110 - val_loss: 27744454.0000 - val_accuracy: 0.2481\n",
            "Epoch 319/500\n",
            "8/8 [==============================] - 0s 61ms/step - loss: 6000191.5000 - accuracy: 0.4135 - val_loss: 27719722.0000 - val_accuracy: 0.2481\n",
            "Epoch 320/500\n",
            "8/8 [==============================] - 0s 62ms/step - loss: 5986635.0000 - accuracy: 0.4079 - val_loss: 27707500.0000 - val_accuracy: 0.2506\n",
            "Epoch 321/500\n",
            "8/8 [==============================] - 0s 61ms/step - loss: 5972720.0000 - accuracy: 0.4098 - val_loss: 27689566.0000 - val_accuracy: 0.2531\n",
            "Epoch 322/500\n",
            "8/8 [==============================] - 0s 60ms/step - loss: 5959046.5000 - accuracy: 0.4135 - val_loss: 27660848.0000 - val_accuracy: 0.2531\n",
            "Epoch 323/500\n",
            "8/8 [==============================] - 0s 62ms/step - loss: 5944787.5000 - accuracy: 0.4110 - val_loss: 27646496.0000 - val_accuracy: 0.2531\n",
            "Epoch 324/500\n",
            "8/8 [==============================] - 0s 61ms/step - loss: 5931893.5000 - accuracy: 0.4148 - val_loss: 27632040.0000 - val_accuracy: 0.2531\n",
            "Epoch 325/500\n",
            "8/8 [==============================] - 0s 61ms/step - loss: 5917988.5000 - accuracy: 0.4098 - val_loss: 27614724.0000 - val_accuracy: 0.2531\n",
            "Epoch 326/500\n",
            "8/8 [==============================] - 0s 62ms/step - loss: 5904766.0000 - accuracy: 0.4085 - val_loss: 27593582.0000 - val_accuracy: 0.2531\n",
            "Epoch 327/500\n",
            "8/8 [==============================] - 0s 61ms/step - loss: 5891527.5000 - accuracy: 0.4110 - val_loss: 27593490.0000 - val_accuracy: 0.2556\n",
            "Epoch 328/500\n",
            "8/8 [==============================] - 0s 61ms/step - loss: 5879038.5000 - accuracy: 0.4142 - val_loss: 27561886.0000 - val_accuracy: 0.2556\n",
            "Epoch 329/500\n",
            "8/8 [==============================] - 0s 61ms/step - loss: 5865270.0000 - accuracy: 0.4154 - val_loss: 27549398.0000 - val_accuracy: 0.2556\n",
            "Epoch 330/500\n",
            "8/8 [==============================] - 0s 61ms/step - loss: 5851544.5000 - accuracy: 0.4167 - val_loss: 27530632.0000 - val_accuracy: 0.2581\n",
            "Epoch 331/500\n",
            "8/8 [==============================] - 1s 63ms/step - loss: 5838270.0000 - accuracy: 0.4098 - val_loss: 27517690.0000 - val_accuracy: 0.2556\n",
            "Epoch 332/500\n",
            "8/8 [==============================] - 0s 61ms/step - loss: 5824959.0000 - accuracy: 0.4154 - val_loss: 27499410.0000 - val_accuracy: 0.2581\n",
            "Epoch 333/500\n",
            "8/8 [==============================] - 0s 61ms/step - loss: 5811761.5000 - accuracy: 0.4160 - val_loss: 27474798.0000 - val_accuracy: 0.2581\n",
            "Epoch 334/500\n",
            "8/8 [==============================] - 0s 61ms/step - loss: 5798946.5000 - accuracy: 0.4135 - val_loss: 27457294.0000 - val_accuracy: 0.2581\n",
            "Epoch 335/500\n",
            "8/8 [==============================] - 0s 61ms/step - loss: 5786234.5000 - accuracy: 0.4073 - val_loss: 27439146.0000 - val_accuracy: 0.2581\n",
            "Epoch 336/500\n",
            "8/8 [==============================] - 0s 61ms/step - loss: 5772426.0000 - accuracy: 0.4148 - val_loss: 27435218.0000 - val_accuracy: 0.2581\n",
            "Epoch 337/500\n",
            "8/8 [==============================] - 0s 62ms/step - loss: 5760073.0000 - accuracy: 0.4148 - val_loss: 27413188.0000 - val_accuracy: 0.2581\n",
            "Epoch 338/500\n",
            "8/8 [==============================] - 0s 60ms/step - loss: 5746703.0000 - accuracy: 0.4179 - val_loss: 27395474.0000 - val_accuracy: 0.2581\n",
            "Epoch 339/500\n",
            "8/8 [==============================] - 0s 62ms/step - loss: 5733849.0000 - accuracy: 0.4142 - val_loss: 27374308.0000 - val_accuracy: 0.2581\n",
            "Epoch 340/500\n",
            "8/8 [==============================] - 0s 62ms/step - loss: 5720289.0000 - accuracy: 0.4123 - val_loss: 27374918.0000 - val_accuracy: 0.2581\n",
            "Epoch 341/500\n",
            "8/8 [==============================] - 0s 62ms/step - loss: 5708593.0000 - accuracy: 0.4154 - val_loss: 27346708.0000 - val_accuracy: 0.2607\n",
            "Epoch 342/500\n",
            "8/8 [==============================] - 0s 61ms/step - loss: 5695488.5000 - accuracy: 0.4123 - val_loss: 27329122.0000 - val_accuracy: 0.2607\n",
            "Epoch 343/500\n",
            "8/8 [==============================] - 0s 61ms/step - loss: 5682181.0000 - accuracy: 0.4167 - val_loss: 27318210.0000 - val_accuracy: 0.2607\n",
            "Epoch 344/500\n",
            "8/8 [==============================] - 0s 61ms/step - loss: 5669747.5000 - accuracy: 0.4148 - val_loss: 27302374.0000 - val_accuracy: 0.2581\n",
            "Epoch 345/500\n",
            "8/8 [==============================] - 0s 61ms/step - loss: 5657141.5000 - accuracy: 0.4185 - val_loss: 27282420.0000 - val_accuracy: 0.2581\n",
            "Epoch 346/500\n",
            "8/8 [==============================] - 0s 60ms/step - loss: 5644977.0000 - accuracy: 0.4079 - val_loss: 27275254.0000 - val_accuracy: 0.2607\n",
            "Epoch 347/500\n",
            "8/8 [==============================] - 0s 61ms/step - loss: 5632588.5000 - accuracy: 0.4185 - val_loss: 27265586.0000 - val_accuracy: 0.2607\n",
            "Epoch 348/500\n",
            "8/8 [==============================] - 0s 61ms/step - loss: 5619379.5000 - accuracy: 0.4129 - val_loss: 27246852.0000 - val_accuracy: 0.2581\n",
            "Epoch 349/500\n",
            "8/8 [==============================] - 0s 60ms/step - loss: 5606901.5000 - accuracy: 0.4154 - val_loss: 27228402.0000 - val_accuracy: 0.2607\n",
            "Epoch 350/500\n",
            "8/8 [==============================] - 0s 61ms/step - loss: 5594389.0000 - accuracy: 0.4148 - val_loss: 27215262.0000 - val_accuracy: 0.2607\n",
            "Epoch 351/500\n",
            "8/8 [==============================] - 0s 62ms/step - loss: 5582435.0000 - accuracy: 0.4173 - val_loss: 27196630.0000 - val_accuracy: 0.2607\n",
            "Epoch 352/500\n",
            "8/8 [==============================] - 0s 61ms/step - loss: 5570395.5000 - accuracy: 0.4192 - val_loss: 27182150.0000 - val_accuracy: 0.2607\n",
            "Epoch 353/500\n",
            "8/8 [==============================] - 0s 61ms/step - loss: 5558041.0000 - accuracy: 0.4167 - val_loss: 27169358.0000 - val_accuracy: 0.2607\n",
            "Epoch 354/500\n",
            "8/8 [==============================] - 0s 60ms/step - loss: 5546170.5000 - accuracy: 0.4142 - val_loss: 27152418.0000 - val_accuracy: 0.2607\n",
            "Epoch 355/500\n",
            "8/8 [==============================] - 0s 61ms/step - loss: 5533385.5000 - accuracy: 0.4198 - val_loss: 27140370.0000 - val_accuracy: 0.2607\n",
            "Epoch 356/500\n",
            "8/8 [==============================] - 0s 61ms/step - loss: 5521327.0000 - accuracy: 0.4198 - val_loss: 27116970.0000 - val_accuracy: 0.2581\n",
            "Epoch 357/500\n",
            "8/8 [==============================] - 0s 61ms/step - loss: 5509494.5000 - accuracy: 0.4173 - val_loss: 27105994.0000 - val_accuracy: 0.2581\n",
            "Epoch 358/500\n",
            "8/8 [==============================] - 0s 62ms/step - loss: 5497410.5000 - accuracy: 0.4179 - val_loss: 27089222.0000 - val_accuracy: 0.2581\n",
            "Epoch 359/500\n",
            "8/8 [==============================] - 0s 61ms/step - loss: 5484839.0000 - accuracy: 0.4204 - val_loss: 27083984.0000 - val_accuracy: 0.2607\n",
            "Epoch 360/500\n",
            "8/8 [==============================] - 0s 61ms/step - loss: 5472999.5000 - accuracy: 0.4204 - val_loss: 27068170.0000 - val_accuracy: 0.2607\n",
            "Epoch 361/500\n",
            "8/8 [==============================] - 0s 60ms/step - loss: 5461070.5000 - accuracy: 0.4236 - val_loss: 27053180.0000 - val_accuracy: 0.2632\n",
            "Epoch 362/500\n",
            "8/8 [==============================] - 0s 61ms/step - loss: 5449268.5000 - accuracy: 0.4198 - val_loss: 27028390.0000 - val_accuracy: 0.2632\n",
            "Epoch 363/500\n",
            "8/8 [==============================] - 0s 62ms/step - loss: 5437269.5000 - accuracy: 0.4217 - val_loss: 27020644.0000 - val_accuracy: 0.2632\n",
            "Epoch 364/500\n",
            "8/8 [==============================] - 0s 61ms/step - loss: 5425739.5000 - accuracy: 0.4192 - val_loss: 27004540.0000 - val_accuracy: 0.2657\n",
            "Epoch 365/500\n",
            "8/8 [==============================] - 0s 61ms/step - loss: 5414416.5000 - accuracy: 0.4167 - val_loss: 26979808.0000 - val_accuracy: 0.2657\n",
            "Epoch 366/500\n",
            "8/8 [==============================] - 0s 61ms/step - loss: 5403402.5000 - accuracy: 0.4154 - val_loss: 26990302.0000 - val_accuracy: 0.2632\n",
            "Epoch 367/500\n",
            "8/8 [==============================] - 0s 61ms/step - loss: 5389901.0000 - accuracy: 0.4229 - val_loss: 26958840.0000 - val_accuracy: 0.2632\n",
            "Epoch 368/500\n",
            "8/8 [==============================] - 0s 60ms/step - loss: 5378322.5000 - accuracy: 0.4185 - val_loss: 26950304.0000 - val_accuracy: 0.2657\n",
            "Epoch 369/500\n",
            "8/8 [==============================] - 0s 61ms/step - loss: 5366933.0000 - accuracy: 0.4236 - val_loss: 26937858.0000 - val_accuracy: 0.2657\n",
            "Epoch 370/500\n",
            "8/8 [==============================] - 0s 61ms/step - loss: 5354504.5000 - accuracy: 0.4236 - val_loss: 26918552.0000 - val_accuracy: 0.2657\n",
            "Epoch 371/500\n",
            "8/8 [==============================] - 0s 61ms/step - loss: 5342438.0000 - accuracy: 0.4198 - val_loss: 26917144.0000 - val_accuracy: 0.2657\n",
            "Epoch 372/500\n",
            "8/8 [==============================] - 0s 62ms/step - loss: 5330763.5000 - accuracy: 0.4229 - val_loss: 26899838.0000 - val_accuracy: 0.2632\n",
            "Epoch 373/500\n",
            "8/8 [==============================] - 0s 61ms/step - loss: 5319220.0000 - accuracy: 0.4211 - val_loss: 26888284.0000 - val_accuracy: 0.2632\n",
            "Epoch 374/500\n",
            "8/8 [==============================] - 0s 60ms/step - loss: 5307048.0000 - accuracy: 0.4223 - val_loss: 26869880.0000 - val_accuracy: 0.2632\n",
            "Epoch 375/500\n",
            "8/8 [==============================] - 0s 61ms/step - loss: 5296209.0000 - accuracy: 0.4211 - val_loss: 26858442.0000 - val_accuracy: 0.2632\n",
            "Epoch 376/500\n",
            "8/8 [==============================] - 0s 60ms/step - loss: 5284353.5000 - accuracy: 0.4198 - val_loss: 26840158.0000 - val_accuracy: 0.2632\n",
            "Epoch 377/500\n",
            "8/8 [==============================] - 1s 63ms/step - loss: 5272533.0000 - accuracy: 0.4261 - val_loss: 26826408.0000 - val_accuracy: 0.2607\n",
            "Epoch 378/500\n",
            "8/8 [==============================] - 0s 61ms/step - loss: 5261082.0000 - accuracy: 0.4223 - val_loss: 26813022.0000 - val_accuracy: 0.2657\n",
            "Epoch 379/500\n",
            "8/8 [==============================] - 0s 60ms/step - loss: 5249270.0000 - accuracy: 0.4185 - val_loss: 26799106.0000 - val_accuracy: 0.2607\n",
            "Epoch 380/500\n",
            "8/8 [==============================] - 0s 60ms/step - loss: 5237561.0000 - accuracy: 0.4248 - val_loss: 26786624.0000 - val_accuracy: 0.2632\n",
            "Epoch 381/500\n",
            "8/8 [==============================] - 0s 61ms/step - loss: 5226455.5000 - accuracy: 0.4211 - val_loss: 26777764.0000 - val_accuracy: 0.2632\n",
            "Epoch 382/500\n",
            "8/8 [==============================] - 0s 60ms/step - loss: 5216400.0000 - accuracy: 0.4229 - val_loss: 26762546.0000 - val_accuracy: 0.2632\n",
            "Epoch 383/500\n",
            "8/8 [==============================] - 0s 61ms/step - loss: 5203151.0000 - accuracy: 0.4211 - val_loss: 26761744.0000 - val_accuracy: 0.2632\n",
            "Epoch 384/500\n",
            "8/8 [==============================] - 0s 60ms/step - loss: 5192072.0000 - accuracy: 0.4223 - val_loss: 26739106.0000 - val_accuracy: 0.2657\n",
            "Epoch 385/500\n",
            "8/8 [==============================] - 0s 60ms/step - loss: 5181579.5000 - accuracy: 0.4248 - val_loss: 26722904.0000 - val_accuracy: 0.2657\n",
            "Epoch 386/500\n",
            "8/8 [==============================] - 0s 61ms/step - loss: 5170668.0000 - accuracy: 0.4242 - val_loss: 26706302.0000 - val_accuracy: 0.2657\n",
            "Epoch 387/500\n",
            "8/8 [==============================] - 0s 61ms/step - loss: 5158742.0000 - accuracy: 0.4254 - val_loss: 26698144.0000 - val_accuracy: 0.2632\n",
            "Epoch 388/500\n",
            "8/8 [==============================] - 0s 61ms/step - loss: 5147712.5000 - accuracy: 0.4298 - val_loss: 26691744.0000 - val_accuracy: 0.2632\n",
            "Epoch 389/500\n",
            "8/8 [==============================] - 0s 62ms/step - loss: 5135699.0000 - accuracy: 0.4298 - val_loss: 26673536.0000 - val_accuracy: 0.2657\n",
            "Epoch 390/500\n",
            "8/8 [==============================] - 0s 61ms/step - loss: 5126039.5000 - accuracy: 0.4223 - val_loss: 26661550.0000 - val_accuracy: 0.2632\n",
            "Epoch 391/500\n",
            "8/8 [==============================] - 0s 61ms/step - loss: 5114185.0000 - accuracy: 0.4261 - val_loss: 26646836.0000 - val_accuracy: 0.2632\n",
            "Epoch 392/500\n",
            "8/8 [==============================] - 0s 61ms/step - loss: 5103858.5000 - accuracy: 0.4261 - val_loss: 26628384.0000 - val_accuracy: 0.2657\n",
            "Epoch 393/500\n",
            "8/8 [==============================] - 0s 62ms/step - loss: 5092562.0000 - accuracy: 0.4236 - val_loss: 26620264.0000 - val_accuracy: 0.2657\n",
            "Epoch 394/500\n",
            "8/8 [==============================] - 0s 61ms/step - loss: 5081914.5000 - accuracy: 0.4305 - val_loss: 26604372.0000 - val_accuracy: 0.2657\n",
            "Epoch 395/500\n",
            "8/8 [==============================] - 0s 61ms/step - loss: 5071494.0000 - accuracy: 0.4211 - val_loss: 26584252.0000 - val_accuracy: 0.2657\n",
            "Epoch 396/500\n",
            "8/8 [==============================] - 0s 61ms/step - loss: 5060180.5000 - accuracy: 0.4229 - val_loss: 26579892.0000 - val_accuracy: 0.2657\n",
            "Epoch 397/500\n",
            "8/8 [==============================] - 1s 63ms/step - loss: 5050459.0000 - accuracy: 0.4261 - val_loss: 26577932.0000 - val_accuracy: 0.2657\n",
            "Epoch 398/500\n",
            "8/8 [==============================] - 0s 61ms/step - loss: 5038798.5000 - accuracy: 0.4317 - val_loss: 26555114.0000 - val_accuracy: 0.2657\n",
            "Epoch 399/500\n",
            "8/8 [==============================] - 0s 60ms/step - loss: 5027609.0000 - accuracy: 0.4348 - val_loss: 26542784.0000 - val_accuracy: 0.2657\n",
            "Epoch 400/500\n",
            "8/8 [==============================] - 0s 61ms/step - loss: 5016730.0000 - accuracy: 0.4298 - val_loss: 26527990.0000 - val_accuracy: 0.2657\n",
            "Epoch 401/500\n",
            "8/8 [==============================] - 0s 61ms/step - loss: 5006321.0000 - accuracy: 0.4261 - val_loss: 26516012.0000 - val_accuracy: 0.2657\n",
            "Epoch 402/500\n",
            "8/8 [==============================] - 0s 60ms/step - loss: 4994860.5000 - accuracy: 0.4286 - val_loss: 26501808.0000 - val_accuracy: 0.2657\n",
            "Epoch 403/500\n",
            "8/8 [==============================] - 0s 61ms/step - loss: 4984126.0000 - accuracy: 0.4311 - val_loss: 26488478.0000 - val_accuracy: 0.2657\n",
            "Epoch 404/500\n",
            "8/8 [==============================] - 0s 60ms/step - loss: 4973945.5000 - accuracy: 0.4279 - val_loss: 26481332.0000 - val_accuracy: 0.2657\n",
            "Epoch 405/500\n",
            "8/8 [==============================] - 0s 61ms/step - loss: 4962606.0000 - accuracy: 0.4273 - val_loss: 26464640.0000 - val_accuracy: 0.2632\n",
            "Epoch 406/500\n",
            "8/8 [==============================] - 0s 61ms/step - loss: 4952787.0000 - accuracy: 0.4261 - val_loss: 26450946.0000 - val_accuracy: 0.2657\n",
            "Epoch 407/500\n",
            "8/8 [==============================] - 0s 60ms/step - loss: 4941842.5000 - accuracy: 0.4242 - val_loss: 26437792.0000 - val_accuracy: 0.2657\n",
            "Epoch 408/500\n",
            "8/8 [==============================] - 0s 61ms/step - loss: 4930883.5000 - accuracy: 0.4286 - val_loss: 26425924.0000 - val_accuracy: 0.2657\n",
            "Epoch 409/500\n",
            "8/8 [==============================] - 0s 60ms/step - loss: 4920025.0000 - accuracy: 0.4279 - val_loss: 26418020.0000 - val_accuracy: 0.2657\n",
            "Epoch 410/500\n",
            "8/8 [==============================] - 0s 61ms/step - loss: 4909734.0000 - accuracy: 0.4267 - val_loss: 26398566.0000 - val_accuracy: 0.2657\n",
            "Epoch 411/500\n",
            "8/8 [==============================] - 0s 61ms/step - loss: 4898774.5000 - accuracy: 0.4267 - val_loss: 26386502.0000 - val_accuracy: 0.2657\n",
            "Epoch 412/500\n",
            "8/8 [==============================] - 0s 61ms/step - loss: 4888622.0000 - accuracy: 0.4292 - val_loss: 26371736.0000 - val_accuracy: 0.2657\n",
            "Epoch 413/500\n",
            "8/8 [==============================] - 0s 61ms/step - loss: 4878023.0000 - accuracy: 0.4292 - val_loss: 26358166.0000 - val_accuracy: 0.2657\n",
            "Epoch 414/500\n",
            "8/8 [==============================] - 0s 62ms/step - loss: 4867076.0000 - accuracy: 0.4305 - val_loss: 26344564.0000 - val_accuracy: 0.2632\n",
            "Epoch 415/500\n",
            "8/8 [==============================] - 0s 61ms/step - loss: 4855710.0000 - accuracy: 0.4342 - val_loss: 26333450.0000 - val_accuracy: 0.2632\n",
            "Epoch 416/500\n",
            "8/8 [==============================] - 0s 61ms/step - loss: 4845763.0000 - accuracy: 0.4311 - val_loss: 26322252.0000 - val_accuracy: 0.2632\n",
            "Epoch 417/500\n",
            "8/8 [==============================] - 0s 60ms/step - loss: 4835063.5000 - accuracy: 0.4298 - val_loss: 26311680.0000 - val_accuracy: 0.2632\n",
            "Epoch 418/500\n",
            "8/8 [==============================] - 0s 61ms/step - loss: 4824462.5000 - accuracy: 0.4286 - val_loss: 26294970.0000 - val_accuracy: 0.2632\n",
            "Epoch 419/500\n",
            "8/8 [==============================] - 0s 61ms/step - loss: 4814626.0000 - accuracy: 0.4261 - val_loss: 26281098.0000 - val_accuracy: 0.2657\n",
            "Epoch 420/500\n",
            "8/8 [==============================] - 0s 61ms/step - loss: 4803900.0000 - accuracy: 0.4261 - val_loss: 26276476.0000 - val_accuracy: 0.2632\n",
            "Epoch 421/500\n",
            "8/8 [==============================] - 0s 61ms/step - loss: 4793827.5000 - accuracy: 0.4292 - val_loss: 26260002.0000 - val_accuracy: 0.2707\n",
            "Epoch 422/500\n",
            "8/8 [==============================] - 0s 60ms/step - loss: 4783930.5000 - accuracy: 0.4317 - val_loss: 26252858.0000 - val_accuracy: 0.2682\n",
            "Epoch 423/500\n",
            "8/8 [==============================] - 0s 61ms/step - loss: 4772657.5000 - accuracy: 0.4336 - val_loss: 26233222.0000 - val_accuracy: 0.2682\n",
            "Epoch 424/500\n",
            "8/8 [==============================] - 0s 61ms/step - loss: 4762551.0000 - accuracy: 0.4298 - val_loss: 26218490.0000 - val_accuracy: 0.2707\n",
            "Epoch 425/500\n",
            "8/8 [==============================] - 0s 62ms/step - loss: 4752177.5000 - accuracy: 0.4323 - val_loss: 26204786.0000 - val_accuracy: 0.2682\n",
            "Epoch 426/500\n",
            "8/8 [==============================] - 0s 61ms/step - loss: 4741954.5000 - accuracy: 0.4298 - val_loss: 26198006.0000 - val_accuracy: 0.2682\n",
            "Epoch 427/500\n",
            "8/8 [==============================] - 0s 62ms/step - loss: 4731472.5000 - accuracy: 0.4323 - val_loss: 26175696.0000 - val_accuracy: 0.2682\n",
            "Epoch 428/500\n",
            "8/8 [==============================] - 0s 61ms/step - loss: 4721269.0000 - accuracy: 0.4348 - val_loss: 26162230.0000 - val_accuracy: 0.2682\n",
            "Epoch 429/500\n",
            "8/8 [==============================] - 0s 61ms/step - loss: 4711120.5000 - accuracy: 0.4298 - val_loss: 26150430.0000 - val_accuracy: 0.2682\n",
            "Epoch 430/500\n",
            "8/8 [==============================] - 0s 62ms/step - loss: 4699882.5000 - accuracy: 0.4317 - val_loss: 26143588.0000 - val_accuracy: 0.2682\n",
            "Epoch 431/500\n",
            "8/8 [==============================] - 0s 62ms/step - loss: 4690197.0000 - accuracy: 0.4355 - val_loss: 26131674.0000 - val_accuracy: 0.2682\n",
            "Epoch 432/500\n",
            "8/8 [==============================] - 0s 60ms/step - loss: 4680177.0000 - accuracy: 0.4348 - val_loss: 26118980.0000 - val_accuracy: 0.2682\n",
            "Epoch 433/500\n",
            "8/8 [==============================] - 0s 61ms/step - loss: 4670538.5000 - accuracy: 0.4286 - val_loss: 26104734.0000 - val_accuracy: 0.2682\n",
            "Epoch 434/500\n",
            "8/8 [==============================] - 0s 60ms/step - loss: 4660108.5000 - accuracy: 0.4317 - val_loss: 26092428.0000 - val_accuracy: 0.2682\n",
            "Epoch 435/500\n",
            "8/8 [==============================] - 0s 60ms/step - loss: 4650755.5000 - accuracy: 0.4311 - val_loss: 26076584.0000 - val_accuracy: 0.2682\n",
            "Epoch 436/500\n",
            "8/8 [==============================] - 0s 61ms/step - loss: 4640325.5000 - accuracy: 0.4323 - val_loss: 26061714.0000 - val_accuracy: 0.2682\n",
            "Epoch 437/500\n",
            "8/8 [==============================] - 0s 61ms/step - loss: 4630392.0000 - accuracy: 0.4355 - val_loss: 26053912.0000 - val_accuracy: 0.2682\n",
            "Epoch 438/500\n",
            "8/8 [==============================] - 0s 61ms/step - loss: 4621022.0000 - accuracy: 0.4380 - val_loss: 26035270.0000 - val_accuracy: 0.2682\n",
            "Epoch 439/500\n",
            "8/8 [==============================] - 0s 61ms/step - loss: 4610460.5000 - accuracy: 0.4386 - val_loss: 26021790.0000 - val_accuracy: 0.2682\n",
            "Epoch 440/500\n",
            "8/8 [==============================] - 0s 60ms/step - loss: 4601844.0000 - accuracy: 0.4292 - val_loss: 26010138.0000 - val_accuracy: 0.2682\n",
            "Epoch 441/500\n",
            "8/8 [==============================] - 0s 60ms/step - loss: 4591003.5000 - accuracy: 0.4380 - val_loss: 25995408.0000 - val_accuracy: 0.2682\n",
            "Epoch 442/500\n",
            "8/8 [==============================] - 0s 61ms/step - loss: 4581273.5000 - accuracy: 0.4336 - val_loss: 25988098.0000 - val_accuracy: 0.2682\n",
            "Epoch 443/500\n",
            "8/8 [==============================] - 0s 61ms/step - loss: 4571700.0000 - accuracy: 0.4398 - val_loss: 25971258.0000 - val_accuracy: 0.2682\n",
            "Epoch 444/500\n",
            "8/8 [==============================] - 0s 60ms/step - loss: 4562502.0000 - accuracy: 0.4336 - val_loss: 25956824.0000 - val_accuracy: 0.2682\n",
            "Epoch 445/500\n",
            "8/8 [==============================] - 0s 61ms/step - loss: 4552016.0000 - accuracy: 0.4405 - val_loss: 25949110.0000 - val_accuracy: 0.2682\n",
            "Epoch 446/500\n",
            "8/8 [==============================] - 0s 61ms/step - loss: 4543094.0000 - accuracy: 0.4373 - val_loss: 25937668.0000 - val_accuracy: 0.2657\n",
            "Epoch 447/500\n",
            "8/8 [==============================] - 0s 61ms/step - loss: 4533613.5000 - accuracy: 0.4348 - val_loss: 25925318.0000 - val_accuracy: 0.2682\n",
            "Epoch 448/500\n",
            "8/8 [==============================] - 0s 61ms/step - loss: 4523570.5000 - accuracy: 0.4367 - val_loss: 25909894.0000 - val_accuracy: 0.2682\n",
            "Epoch 449/500\n",
            "8/8 [==============================] - 0s 61ms/step - loss: 4514053.0000 - accuracy: 0.4317 - val_loss: 25897510.0000 - val_accuracy: 0.2682\n",
            "Epoch 450/500\n",
            "8/8 [==============================] - 0s 60ms/step - loss: 4504412.5000 - accuracy: 0.4411 - val_loss: 25887092.0000 - val_accuracy: 0.2682\n",
            "Epoch 451/500\n",
            "8/8 [==============================] - 0s 60ms/step - loss: 4494797.0000 - accuracy: 0.4386 - val_loss: 25874458.0000 - val_accuracy: 0.2707\n",
            "Epoch 452/500\n",
            "8/8 [==============================] - 0s 61ms/step - loss: 4484797.5000 - accuracy: 0.4330 - val_loss: 25858050.0000 - val_accuracy: 0.2707\n",
            "Epoch 453/500\n",
            "8/8 [==============================] - 0s 61ms/step - loss: 4475850.5000 - accuracy: 0.4336 - val_loss: 25848742.0000 - val_accuracy: 0.2707\n",
            "Epoch 454/500\n",
            "8/8 [==============================] - 0s 61ms/step - loss: 4466815.5000 - accuracy: 0.4380 - val_loss: 25832102.0000 - val_accuracy: 0.2707\n",
            "Epoch 455/500\n",
            "8/8 [==============================] - 0s 60ms/step - loss: 4456787.5000 - accuracy: 0.4342 - val_loss: 25822088.0000 - val_accuracy: 0.2707\n",
            "Epoch 456/500\n",
            "8/8 [==============================] - 0s 61ms/step - loss: 4447176.0000 - accuracy: 0.4367 - val_loss: 25810898.0000 - val_accuracy: 0.2707\n",
            "Epoch 457/500\n",
            "8/8 [==============================] - 0s 61ms/step - loss: 4438010.5000 - accuracy: 0.4392 - val_loss: 25798732.0000 - val_accuracy: 0.2707\n",
            "Epoch 458/500\n",
            "8/8 [==============================] - 0s 62ms/step - loss: 4429612.0000 - accuracy: 0.4355 - val_loss: 25774314.0000 - val_accuracy: 0.2682\n",
            "Epoch 459/500\n",
            "8/8 [==============================] - 0s 61ms/step - loss: 4420009.5000 - accuracy: 0.4367 - val_loss: 25766220.0000 - val_accuracy: 0.2707\n",
            "Epoch 460/500\n",
            "8/8 [==============================] - 0s 61ms/step - loss: 4410698.0000 - accuracy: 0.4411 - val_loss: 25755702.0000 - val_accuracy: 0.2707\n",
            "Epoch 461/500\n",
            "8/8 [==============================] - 0s 61ms/step - loss: 4401738.5000 - accuracy: 0.4361 - val_loss: 25749072.0000 - val_accuracy: 0.2707\n",
            "Epoch 462/500\n",
            "8/8 [==============================] - 0s 61ms/step - loss: 4392166.5000 - accuracy: 0.4398 - val_loss: 25738736.0000 - val_accuracy: 0.2707\n",
            "Epoch 463/500\n",
            "8/8 [==============================] - 0s 62ms/step - loss: 4382972.0000 - accuracy: 0.4442 - val_loss: 25717146.0000 - val_accuracy: 0.2732\n",
            "Epoch 464/500\n",
            "8/8 [==============================] - 0s 61ms/step - loss: 4373997.5000 - accuracy: 0.4430 - val_loss: 25719652.0000 - val_accuracy: 0.2707\n",
            "Epoch 465/500\n",
            "8/8 [==============================] - 0s 60ms/step - loss: 4364818.0000 - accuracy: 0.4417 - val_loss: 25696952.0000 - val_accuracy: 0.2732\n",
            "Epoch 466/500\n",
            "8/8 [==============================] - 0s 61ms/step - loss: 4355996.5000 - accuracy: 0.4355 - val_loss: 25687038.0000 - val_accuracy: 0.2707\n",
            "Epoch 467/500\n",
            "8/8 [==============================] - 0s 61ms/step - loss: 4346400.0000 - accuracy: 0.4455 - val_loss: 25679766.0000 - val_accuracy: 0.2707\n",
            "Epoch 468/500\n",
            "8/8 [==============================] - 0s 62ms/step - loss: 4337397.0000 - accuracy: 0.4411 - val_loss: 25659910.0000 - val_accuracy: 0.2707\n",
            "Epoch 469/500\n",
            "8/8 [==============================] - 0s 61ms/step - loss: 4328196.5000 - accuracy: 0.4417 - val_loss: 25655938.0000 - val_accuracy: 0.2707\n",
            "Epoch 470/500\n",
            "8/8 [==============================] - 0s 61ms/step - loss: 4319106.0000 - accuracy: 0.4417 - val_loss: 25638562.0000 - val_accuracy: 0.2707\n",
            "Epoch 471/500\n",
            "8/8 [==============================] - 0s 61ms/step - loss: 4310153.5000 - accuracy: 0.4424 - val_loss: 25641394.0000 - val_accuracy: 0.2707\n",
            "Epoch 472/500\n",
            "8/8 [==============================] - 0s 60ms/step - loss: 4302721.5000 - accuracy: 0.4411 - val_loss: 25615892.0000 - val_accuracy: 0.2707\n",
            "Epoch 473/500\n",
            "8/8 [==============================] - 0s 60ms/step - loss: 4293340.5000 - accuracy: 0.4392 - val_loss: 25603652.0000 - val_accuracy: 0.2707\n",
            "Epoch 474/500\n",
            "8/8 [==============================] - 0s 61ms/step - loss: 4284303.0000 - accuracy: 0.4424 - val_loss: 25600036.0000 - val_accuracy: 0.2707\n",
            "Epoch 475/500\n",
            "8/8 [==============================] - 0s 60ms/step - loss: 4275760.0000 - accuracy: 0.4467 - val_loss: 25588128.0000 - val_accuracy: 0.2707\n",
            "Epoch 476/500\n",
            "8/8 [==============================] - 0s 61ms/step - loss: 4266935.5000 - accuracy: 0.4411 - val_loss: 25566610.0000 - val_accuracy: 0.2707\n",
            "Epoch 477/500\n",
            "8/8 [==============================] - 0s 61ms/step - loss: 4257943.5000 - accuracy: 0.4474 - val_loss: 25556042.0000 - val_accuracy: 0.2707\n",
            "Epoch 478/500\n",
            "8/8 [==============================] - 0s 62ms/step - loss: 4249653.0000 - accuracy: 0.4430 - val_loss: 25544236.0000 - val_accuracy: 0.2707\n",
            "Epoch 479/500\n",
            "8/8 [==============================] - 0s 61ms/step - loss: 4240835.5000 - accuracy: 0.4461 - val_loss: 25537056.0000 - val_accuracy: 0.2707\n",
            "Epoch 480/500\n",
            "8/8 [==============================] - 0s 61ms/step - loss: 4232611.0000 - accuracy: 0.4424 - val_loss: 25526160.0000 - val_accuracy: 0.2707\n",
            "Epoch 481/500\n",
            "8/8 [==============================] - 0s 61ms/step - loss: 4224170.0000 - accuracy: 0.4392 - val_loss: 25509528.0000 - val_accuracy: 0.2707\n",
            "Epoch 482/500\n",
            "8/8 [==============================] - 0s 61ms/step - loss: 4215830.5000 - accuracy: 0.4474 - val_loss: 25501634.0000 - val_accuracy: 0.2707\n",
            "Epoch 483/500\n",
            "8/8 [==============================] - 0s 61ms/step - loss: 4206998.5000 - accuracy: 0.4511 - val_loss: 25487090.0000 - val_accuracy: 0.2707\n",
            "Epoch 484/500\n",
            "8/8 [==============================] - 0s 61ms/step - loss: 4198834.5000 - accuracy: 0.4474 - val_loss: 25475452.0000 - val_accuracy: 0.2707\n",
            "Epoch 485/500\n",
            "8/8 [==============================] - 0s 61ms/step - loss: 4190589.7500 - accuracy: 0.4467 - val_loss: 25464532.0000 - val_accuracy: 0.2707\n",
            "Epoch 486/500\n",
            "8/8 [==============================] - 0s 61ms/step - loss: 4182076.0000 - accuracy: 0.4474 - val_loss: 25453420.0000 - val_accuracy: 0.2707\n",
            "Epoch 487/500\n",
            "8/8 [==============================] - 0s 61ms/step - loss: 4173935.2500 - accuracy: 0.4424 - val_loss: 25447904.0000 - val_accuracy: 0.2682\n",
            "Epoch 488/500\n",
            "8/8 [==============================] - 0s 61ms/step - loss: 4165942.2500 - accuracy: 0.4474 - val_loss: 25430010.0000 - val_accuracy: 0.2707\n",
            "Epoch 489/500\n",
            "8/8 [==============================] - 0s 61ms/step - loss: 4157559.2500 - accuracy: 0.4417 - val_loss: 25423780.0000 - val_accuracy: 0.2707\n",
            "Epoch 490/500\n",
            "8/8 [==============================] - 0s 61ms/step - loss: 4149345.5000 - accuracy: 0.4455 - val_loss: 25408494.0000 - val_accuracy: 0.2707\n",
            "Epoch 491/500\n",
            "8/8 [==============================] - 0s 62ms/step - loss: 4141739.7500 - accuracy: 0.4449 - val_loss: 25398628.0000 - val_accuracy: 0.2707\n",
            "Epoch 492/500\n",
            "8/8 [==============================] - 0s 60ms/step - loss: 4133370.0000 - accuracy: 0.4492 - val_loss: 25393462.0000 - val_accuracy: 0.2707\n",
            "Epoch 493/500\n",
            "8/8 [==============================] - 0s 62ms/step - loss: 4125329.0000 - accuracy: 0.4524 - val_loss: 25378946.0000 - val_accuracy: 0.2707\n",
            "Epoch 494/500\n",
            "8/8 [==============================] - 0s 61ms/step - loss: 4117624.5000 - accuracy: 0.4436 - val_loss: 25372760.0000 - val_accuracy: 0.2707\n",
            "Epoch 495/500\n",
            "8/8 [==============================] - 0s 61ms/step - loss: 4109212.2500 - accuracy: 0.4492 - val_loss: 25354156.0000 - val_accuracy: 0.2707\n",
            "Epoch 496/500\n",
            "8/8 [==============================] - 0s 60ms/step - loss: 4101735.2500 - accuracy: 0.4474 - val_loss: 25349312.0000 - val_accuracy: 0.2707\n",
            "Epoch 497/500\n",
            "8/8 [==============================] - 0s 61ms/step - loss: 4093791.2500 - accuracy: 0.4467 - val_loss: 25334866.0000 - val_accuracy: 0.2707\n",
            "Epoch 498/500\n",
            "8/8 [==============================] - 0s 61ms/step - loss: 4085998.2500 - accuracy: 0.4430 - val_loss: 25325000.0000 - val_accuracy: 0.2707\n",
            "Epoch 499/500\n",
            "8/8 [==============================] - 0s 61ms/step - loss: 4077511.0000 - accuracy: 0.4530 - val_loss: 25317532.0000 - val_accuracy: 0.2707\n",
            "Epoch 500/500\n",
            "8/8 [==============================] - 0s 60ms/step - loss: 4070359.5000 - accuracy: 0.4486 - val_loss: 25302524.0000 - val_accuracy: 0.2707\n"
          ],
          "name": "stdout"
        }
      ]
    },
    {
      "cell_type": "code",
      "metadata": {
        "id": "7QKD5RvatI1U",
        "outputId": "aff035c1-9c6e-4c74-9090-a2a9101695ff",
        "colab": {
          "base_uri": "https://localhost:8080/",
          "height": 51
        }
      },
      "source": [
        "model_cnn.evaluate(X_im_test, y_test)"
      ],
      "execution_count": null,
      "outputs": [
        {
          "output_type": "stream",
          "text": [
            "16/16 [==============================] - 0s 13ms/step - loss: 42245080.0000 - accuracy: 0.2585\n"
          ],
          "name": "stdout"
        },
        {
          "output_type": "execute_result",
          "data": {
            "text/plain": [
              "[42245080.0, 0.2585170269012451]"
            ]
          },
          "metadata": {
            "tags": []
          },
          "execution_count": 44
        }
      ]
    },
    {
      "cell_type": "markdown",
      "metadata": {
        "id": "qWoBr5dqRaFH"
      },
      "source": [
        "Now that we've run this experiment on clean, noise-free signals taken with high quality microphones, and recorded by speakers all with similar speaking styles and accents, let's explore a less ideal case.  In real life, you can rarely expect the input speech to be of such high quality and need to prepare to handle common degradations in the signals.  There could be additive, noise in the background, there could be multiple speakers talking over each other, a speaker could have an accent not present in the training data, etc..  We need to be creative in how we deal with these challenges.  Here we'll introduce another common problem in audio processing: Reverberation.  Reverberations, or echos, occur when not only the original signal reaches the recording device, but also reflections of the soundwave off of nearby surfaces are directed at the microphone and also appear in the signal.  This can be modeled as multiple delayed and attenuated versions of the original signal being added back into the original signal through convolution with a room impulse function.  For this reason, we often refer to reverberations as convolutional noise, as opposed to addative noise which is added on top of the signal"
      ]
    },
    {
      "cell_type": "markdown",
      "metadata": {
        "id": "_tsSq8IPSQWE"
      },
      "source": [
        "Install the pyroomacoustics library.  It is a helpful python library that deals with calculating the effects of echos in a given"
      ]
    },
    {
      "cell_type": "code",
      "metadata": {
        "id": "YTwoX2oBCbzN",
        "outputId": "26dbacf8-ffd5-45e6-b7ea-b23bf16f99d3",
        "colab": {
          "base_uri": "https://localhost:8080/",
          "height": 330
        }
      },
      "source": [
        "!pip install pyroomacoustics"
      ],
      "execution_count": null,
      "outputs": [
        {
          "output_type": "stream",
          "text": [
            "Collecting pyroomacoustics\n",
            "\u001b[?25l  Downloading https://files.pythonhosted.org/packages/4d/49/73e2d8fba52663bf8c1eaf70867cc0e70b8aef0cd3232b86117777af1ca8/pyroomacoustics-0.4.2.tar.gz (1.1MB)\n",
            "\r\u001b[K     |▎                               | 10kB 22.8MB/s eta 0:00:01\r\u001b[K     |▋                               | 20kB 5.8MB/s eta 0:00:01\r\u001b[K     |█                               | 30kB 6.9MB/s eta 0:00:01\r\u001b[K     |█▎                              | 40kB 7.6MB/s eta 0:00:01\r\u001b[K     |█▋                              | 51kB 6.8MB/s eta 0:00:01\r\u001b[K     |█▉                              | 61kB 7.7MB/s eta 0:00:01\r\u001b[K     |██▏                             | 71kB 7.6MB/s eta 0:00:01\r\u001b[K     |██▌                             | 81kB 8.6MB/s eta 0:00:01\r\u001b[K     |██▉                             | 92kB 7.8MB/s eta 0:00:01\r\u001b[K     |███▏                            | 102kB 7.9MB/s eta 0:00:01\r\u001b[K     |███▍                            | 112kB 7.9MB/s eta 0:00:01\r\u001b[K     |███▊                            | 122kB 7.9MB/s eta 0:00:01\r\u001b[K     |████                            | 133kB 7.9MB/s eta 0:00:01\r\u001b[K     |████▍                           | 143kB 7.9MB/s eta 0:00:01\r\u001b[K     |████▊                           | 153kB 7.9MB/s eta 0:00:01\r\u001b[K     |█████                           | 163kB 7.9MB/s eta 0:00:01\r\u001b[K     |█████▎                          | 174kB 7.9MB/s eta 0:00:01\r\u001b[K     |█████▋                          | 184kB 7.9MB/s eta 0:00:01\r\u001b[K     |██████                          | 194kB 7.9MB/s eta 0:00:01\r\u001b[K     |██████▎                         | 204kB 7.9MB/s eta 0:00:01\r\u001b[K     |██████▌                         | 215kB 7.9MB/s eta 0:00:01\r\u001b[K     |██████▉                         | 225kB 7.9MB/s eta 0:00:01\r\u001b[K     |███████▏                        | 235kB 7.9MB/s eta 0:00:01\r\u001b[K     |███████▌                        | 245kB 7.9MB/s eta 0:00:01\r\u001b[K     |███████▉                        | 256kB 7.9MB/s eta 0:00:01\r\u001b[K     |████████                        | 266kB 7.9MB/s eta 0:00:01\r\u001b[K     |████████▍                       | 276kB 7.9MB/s eta 0:00:01\r\u001b[K     |████████▊                       | 286kB 7.9MB/s eta 0:00:01\r\u001b[K     |█████████                       | 296kB 7.9MB/s eta 0:00:01\r\u001b[K     |█████████▍                      | 307kB 7.9MB/s eta 0:00:01\r\u001b[K     |█████████▋                      | 317kB 7.9MB/s eta 0:00:01\r\u001b[K     |██████████                      | 327kB 7.9MB/s eta 0:00:01\r\u001b[K     |██████████▎                     | 337kB 7.9MB/s eta 0:00:01\r\u001b[K     |██████████▋                     | 348kB 7.9MB/s eta 0:00:01\r\u001b[K     |███████████                     | 358kB 7.9MB/s eta 0:00:01\r\u001b[K     |███████████▏                    | 368kB 7.9MB/s eta 0:00:01\r\u001b[K     |███████████▌                    | 378kB 7.9MB/s eta 0:00:01\r\u001b[K     |███████████▉                    | 389kB 7.9MB/s eta 0:00:01\r\u001b[K     |████████████▏                   | 399kB 7.9MB/s eta 0:00:01\r\u001b[K     |████████████▌                   | 409kB 7.9MB/s eta 0:00:01\r\u001b[K     |████████████▊                   | 419kB 7.9MB/s eta 0:00:01\r\u001b[K     |█████████████                   | 430kB 7.9MB/s eta 0:00:01\r\u001b[K     |█████████████▍                  | 440kB 7.9MB/s eta 0:00:01\r\u001b[K     |█████████████▊                  | 450kB 7.9MB/s eta 0:00:01\r\u001b[K     |██████████████                  | 460kB 7.9MB/s eta 0:00:01\r\u001b[K     |██████████████▍                 | 471kB 7.9MB/s eta 0:00:01\r\u001b[K     |██████████████▋                 | 481kB 7.9MB/s eta 0:00:01\r\u001b[K     |███████████████                 | 491kB 7.9MB/s eta 0:00:01\r\u001b[K     |███████████████▎                | 501kB 7.9MB/s eta 0:00:01\r\u001b[K     |███████████████▋                | 512kB 7.9MB/s eta 0:00:01\r\u001b[K     |████████████████                | 522kB 7.9MB/s eta 0:00:01\r\u001b[K     |████████████████▏               | 532kB 7.9MB/s eta 0:00:01\r\u001b[K     |████████████████▌               | 542kB 7.9MB/s eta 0:00:01\r\u001b[K     |████████████████▉               | 552kB 7.9MB/s eta 0:00:01\r\u001b[K     |█████████████████▏              | 563kB 7.9MB/s eta 0:00:01\r\u001b[K     |█████████████████▌              | 573kB 7.9MB/s eta 0:00:01\r\u001b[K     |█████████████████▊              | 583kB 7.9MB/s eta 0:00:01\r\u001b[K     |██████████████████              | 593kB 7.9MB/s eta 0:00:01\r\u001b[K     |██████████████████▍             | 604kB 7.9MB/s eta 0:00:01\r\u001b[K     |██████████████████▊             | 614kB 7.9MB/s eta 0:00:01\r\u001b[K     |███████████████████             | 624kB 7.9MB/s eta 0:00:01\r\u001b[K     |███████████████████▎            | 634kB 7.9MB/s eta 0:00:01\r\u001b[K     |███████████████████▋            | 645kB 7.9MB/s eta 0:00:01\r\u001b[K     |████████████████████            | 655kB 7.9MB/s eta 0:00:01\r\u001b[K     |████████████████████▎           | 665kB 7.9MB/s eta 0:00:01\r\u001b[K     |████████████████████▋           | 675kB 7.9MB/s eta 0:00:01\r\u001b[K     |████████████████████▉           | 686kB 7.9MB/s eta 0:00:01\r\u001b[K     |█████████████████████▏          | 696kB 7.9MB/s eta 0:00:01\r\u001b[K     |█████████████████████▌          | 706kB 7.9MB/s eta 0:00:01\r\u001b[K     |█████████████████████▉          | 716kB 7.9MB/s eta 0:00:01\r\u001b[K     |██████████████████████▏         | 727kB 7.9MB/s eta 0:00:01\r\u001b[K     |██████████████████████▍         | 737kB 7.9MB/s eta 0:00:01\r\u001b[K     |██████████████████████▊         | 747kB 7.9MB/s eta 0:00:01\r\u001b[K     |███████████████████████         | 757kB 7.9MB/s eta 0:00:01\r\u001b[K     |███████████████████████▍        | 768kB 7.9MB/s eta 0:00:01\r\u001b[K     |███████████████████████▊        | 778kB 7.9MB/s eta 0:00:01\r\u001b[K     |████████████████████████        | 788kB 7.9MB/s eta 0:00:01\r\u001b[K     |████████████████████████▎       | 798kB 7.9MB/s eta 0:00:01\r\u001b[K     |████████████████████████▋       | 808kB 7.9MB/s eta 0:00:01\r\u001b[K     |█████████████████████████       | 819kB 7.9MB/s eta 0:00:01\r\u001b[K     |█████████████████████████▎      | 829kB 7.9MB/s eta 0:00:01\r\u001b[K     |█████████████████████████▌      | 839kB 7.9MB/s eta 0:00:01\r\u001b[K     |█████████████████████████▉      | 849kB 7.9MB/s eta 0:00:01\r\u001b[K     |██████████████████████████▏     | 860kB 7.9MB/s eta 0:00:01\r\u001b[K     |██████████████████████████▌     | 870kB 7.9MB/s eta 0:00:01\r\u001b[K     |██████████████████████████▉     | 880kB 7.9MB/s eta 0:00:01\r\u001b[K     |███████████████████████████▏    | 890kB 7.9MB/s eta 0:00:01\r\u001b[K     |███████████████████████████▍    | 901kB 7.9MB/s eta 0:00:01\r\u001b[K     |███████████████████████████▊    | 911kB 7.9MB/s eta 0:00:01\r\u001b[K     |████████████████████████████    | 921kB 7.9MB/s eta 0:00:01\r\u001b[K     |████████████████████████████▍   | 931kB 7.9MB/s eta 0:00:01\r\u001b[K     |████████████████████████████▊   | 942kB 7.9MB/s eta 0:00:01\r\u001b[K     |█████████████████████████████   | 952kB 7.9MB/s eta 0:00:01\r\u001b[K     |█████████████████████████████▎  | 962kB 7.9MB/s eta 0:00:01\r\u001b[K     |█████████████████████████████▋  | 972kB 7.9MB/s eta 0:00:01\r\u001b[K     |██████████████████████████████  | 983kB 7.9MB/s eta 0:00:01\r\u001b[K     |██████████████████████████████▎ | 993kB 7.9MB/s eta 0:00:01\r\u001b[K     |██████████████████████████████▌ | 1.0MB 7.9MB/s eta 0:00:01\r\u001b[K     |██████████████████████████████▉ | 1.0MB 7.9MB/s eta 0:00:01\r\u001b[K     |███████████████████████████████▏| 1.0MB 7.9MB/s eta 0:00:01\r\u001b[K     |███████████████████████████████▌| 1.0MB 7.9MB/s eta 0:00:01\r\u001b[K     |███████████████████████████████▉| 1.0MB 7.9MB/s eta 0:00:01\r\u001b[K     |████████████████████████████████| 1.1MB 7.9MB/s \n",
            "\u001b[?25h  Installing build dependencies ... \u001b[?25l\u001b[?25hdone\n",
            "  Getting requirements to build wheel ... \u001b[?25l\u001b[?25hdone\n",
            "    Preparing wheel metadata ... \u001b[?25l\u001b[?25hdone\n",
            "Requirement already satisfied: numpy in /usr/local/lib/python3.6/dist-packages (from pyroomacoustics) (1.18.5)\n",
            "Collecting pybind11>=2.2\n",
            "  Using cached https://files.pythonhosted.org/packages/89/e3/d576f6f02bc75bacbc3d42494e8f1d063c95617d86648dba243c2cb3963e/pybind11-2.5.0-py2.py3-none-any.whl\n",
            "Requirement already satisfied: Cython in /usr/local/lib/python3.6/dist-packages (from pyroomacoustics) (0.29.21)\n",
            "Requirement already satisfied: scipy>=0.18.0 in /usr/local/lib/python3.6/dist-packages (from pyroomacoustics) (1.4.1)\n",
            "Building wheels for collected packages: pyroomacoustics\n",
            "  Building wheel for pyroomacoustics (PEP 517) ... \u001b[?25l\u001b[?25hdone\n",
            "  Created wheel for pyroomacoustics: filename=pyroomacoustics-0.4.2-cp36-cp36m-linux_x86_64.whl size=9520155 sha256=0468fbc90a3c3136d91b5f11c41d291226ed7367cf6c48963b8ff9fb79223564\n",
            "  Stored in directory: /root/.cache/pip/wheels/a8/36/c1/e2c6c0c9a018975e20f7c4694ee1d19f768ac7b3aba168231a\n",
            "Successfully built pyroomacoustics\n",
            "Installing collected packages: pybind11, pyroomacoustics\n",
            "Successfully installed pybind11-2.5.0 pyroomacoustics-0.4.2\n"
          ],
          "name": "stdout"
        }
      ]
    },
    {
      "cell_type": "markdown",
      "metadata": {
        "id": "dXMy3401TDFN"
      },
      "source": [
        "Read in a new test set from another text file"
      ]
    },
    {
      "cell_type": "code",
      "metadata": {
        "id": "1i4OVDjq_9EN"
      },
      "source": [
        "text_file = open(\"testing_digit_list.txt\", \"r\")\n",
        "testing_list = text_file.read().splitlines()"
      ],
      "execution_count": null,
      "outputs": []
    },
    {
      "cell_type": "markdown",
      "metadata": {
        "id": "u6WbLXSsTIfQ"
      },
      "source": [
        "Add reverberations to the test signals using the pyroom acoustic library"
      ]
    },
    {
      "cell_type": "code",
      "metadata": {
        "id": "1Cc9oD9ZAuHH",
        "outputId": "fdba1d5c-cd0b-40dd-d9b2-0b974588754b",
        "colab": {
          "base_uri": "https://localhost:8080/",
          "height": 121,
          "referenced_widgets": [
            "b80334ff3c5e417fbf39336fc2126770",
            "4c2d415c15844c578a008eb160faec17",
            "80136fb00f4344c1b7f36a8912d96074",
            "68d4d32d2b9a48818543d4caf0526a00",
            "5398b038ff7d45ca8068d15951129feb",
            "fcad123f9646492093f9df4db3df33c4",
            "5ab60d30986b4708b9571da01a98c5dd",
            "13f7954d5bb44bbdbc814a12cd34d771"
          ]
        }
      },
      "source": [
        "from tqdm.notebook import tnrange\n",
        "import pyroomacoustics as pra\n",
        "import scipy.io.wavfile as wav\n",
        "import numpy as np\n",
        "import librosa.feature as lf\n",
        "\n",
        "all_reverb_signals =[]\n",
        "all_reverb_feat=[]\n",
        "trial_labels = []\n",
        "\n",
        "# The desired reverberation time and dimensions of the room\n",
        "rt60 = 1.0  # seconds\n",
        "room_dim = [20, 30, 10]  # meters\n",
        "\n",
        "e_absorption, max_order = pra.inverse_sabine(rt60, room_dim)\n",
        "\n",
        "# Create the room\n",
        "for i in tnrange(len(testing_list)):\n",
        "\n",
        "  fs, audio = wav.read(testing_list[i])\n",
        "  room = pra.ShoeBox(\n",
        "      room_dim, fs=fs, materials=pra.Material(e_absorption), max_order=max_order\n",
        "  )\n",
        "\n",
        "  # place the source in the room\n",
        "  room.add_source([2.5, 3.73, 1.76], signal=audio, delay=1.3)\n",
        "\n",
        "  mic_locs = np.c_[\n",
        "      [10, 1, 1], \n",
        "  ]\n",
        "\n",
        "  # finally place the array in the room\n",
        "  room.add_microphone_array(mic_locs)\n",
        "\n",
        "  # Run the simulation (this will also build the RIR automatically)\n",
        "  room.simulate()\n",
        "\n",
        "  mics_signals = room.mic_array.signals\n",
        "  mics_signals = mics_signals.reshape(mics_signals.size,)\n",
        "  z=mics_signals[int(1.5*fs):int(2.5*fs)]\n",
        "\n",
        "  feat = lf.melspectrogram(z.astype('float'), sr =fs)\n",
        "  all_reverb_signals.append(z.astype('float'))\n",
        "  all_reverb_feat.append(feat.reshape(1, feat.shape[0], feat.shape[1]))\n",
        "\n",
        "  # get labels from the file name (ie which word is in the audio file)\n",
        "  which_word=testing_list[i].split('/')[0]\n",
        "  trial_labels.append(which_word)\n",
        "  \n"
      ],
      "execution_count": null,
      "outputs": [
        {
          "output_type": "display_data",
          "data": {
            "application/vnd.jupyter.widget-view+json": {
              "model_id": "b80334ff3c5e417fbf39336fc2126770",
              "version_minor": 0,
              "version_major": 2
            },
            "text/plain": [
              "HBox(children=(FloatProgress(value=0.0, max=2552.0), HTML(value='')))"
            ]
          },
          "metadata": {
            "tags": []
          }
        },
        {
          "output_type": "stream",
          "text": [
            "/usr/local/lib/python3.6/dist-packages/pyroomacoustics/room.py:905: UserWarning: The number of rays used for ray tracing is larger than100000 which may result in slow simulation.  The numberof rays was automatically chosen to provide accurateroom impulse response based on the room volume and thereceiver radius around the microphones.  The number ofrays may be reduced by increasing the size of thereceiver.  This tends to happen especially for largerooms with small receivers.  The receiver is a spherearound the microphone and its radius (in meters) may bespecified by providing the `receiver_radius` keywordargument to the `set_ray_tracing` method.\n",
            "  \"The number of rays used for ray tracing is larger than\"\n"
          ],
          "name": "stderr"
        },
        {
          "output_type": "stream",
          "text": [
            "\n"
          ],
          "name": "stdout"
        }
      ]
    },
    {
      "cell_type": "markdown",
      "metadata": {
        "id": "at_ebq7YTQ-S"
      },
      "source": [
        "Encode the labels from the new dataset using the same encoding scheme used previously."
      ]
    },
    {
      "cell_type": "code",
      "metadata": {
        "id": "PruJymKkFcbT"
      },
      "source": [
        "\n",
        "le.fit(trial_labels)\n",
        "\n",
        "encoded_labels = le.transform(trial_labels)\n",
        "\n",
        "oh_enc = preprocessing.OneHotEncoder()\n",
        "oh_enc.fit(encoded_labels.reshape(-1,1))\n",
        "\n",
        "y_trial = oh_enc.transform(encoded_labels.reshape(-1,1))\n",
        "y_trial = sp.sparse.csr_matrix.toarray(y_trial)"
      ],
      "execution_count": null,
      "outputs": []
    },
    {
      "cell_type": "code",
      "metadata": {
        "id": "QWUaTXiBUdtm",
        "outputId": "27d28c98-a399-431d-e5d7-50c7296161b0",
        "colab": {
          "base_uri": "https://localhost:8080/",
          "height": 34
        }
      },
      "source": [
        "print(len(all_reverb_signals),len(all_reverb_feat))"
      ],
      "execution_count": null,
      "outputs": [
        {
          "output_type": "stream",
          "text": [
            "2552 2552\n"
          ],
          "name": "stdout"
        }
      ]
    },
    {
      "cell_type": "markdown",
      "metadata": {
        "id": "DB1cFc-hTXLr"
      },
      "source": [
        "Listen to an audio signal with reverb"
      ]
    },
    {
      "cell_type": "code",
      "metadata": {
        "id": "XJUFVnilCKsM",
        "outputId": "3a8c8857-7784-4840-c8c1-c10eb000ce9c",
        "colab": {
          "base_uri": "https://localhost:8080/",
          "height": 74
        }
      },
      "source": [
        "IPython.display.Audio(all_reverb_signals[0], rate=fs)"
      ],
      "execution_count": null,
      "outputs": [
        {
          "output_type": "execute_result",
          "data": {
            "text/html": [
              "\n",
              "                <audio controls=\"controls\" >\n",
              "                    <source src=\"data:audio/wav;base64,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\" type=\"audio/wav\" />\n",
              "                    Your browser does not support the audio element.\n",
              "                </audio>\n",
              "              "
            ],
            "text/plain": [
              "<IPython.lib.display.Audio object>"
            ]
          },
          "metadata": {
            "tags": []
          },
          "execution_count": 46
        }
      ]
    },
    {
      "cell_type": "markdown",
      "metadata": {
        "id": "w7BInPVUTaQn"
      },
      "source": [
        "Confirm the size of the test signals"
      ]
    },
    {
      "cell_type": "code",
      "metadata": {
        "id": "geypTPIe9gRL",
        "outputId": "da42e8bd-f94f-4917-d176-ba8e61d37405",
        "colab": {
          "base_uri": "https://localhost:8080/",
          "height": 34
        }
      },
      "source": [
        "X_sig_rev=np.vstack(all_reverb_signals)\n",
        "X_sig_rev=X_sig_rev.reshape(X_sig_rev.shape[0],X_sig_rev.shape[1],1)\n",
        "print(X_sig_rev.shape)"
      ],
      "execution_count": null,
      "outputs": [
        {
          "output_type": "stream",
          "text": [
            "(2552, 16000, 1)\n"
          ],
          "name": "stdout"
        }
      ]
    },
    {
      "cell_type": "code",
      "metadata": {
        "id": "WVDmJIV0U34-",
        "outputId": "db5c1dc0-5c74-45f7-9979-1e15d663b134",
        "colab": {
          "base_uri": "https://localhost:8080/",
          "height": 51
        }
      },
      "source": [
        "X_im_rev = np.vstack(all_reverb_feat)\n",
        "X_im_rev=X_im_rev.reshape(X_im_rev.shape[0],X_im_rev.shape[1],X_im_rev.shape[2], 1)\n",
        "print(all_reverb_feat[0].shape)\n",
        "print(X_im_rev.shape)"
      ],
      "execution_count": null,
      "outputs": [
        {
          "output_type": "stream",
          "text": [
            "(1, 128, 32)\n",
            "(2552, 128, 32, 1)\n"
          ],
          "name": "stdout"
        }
      ]
    },
    {
      "cell_type": "markdown",
      "metadata": {
        "id": "QAioOdcjTd0X"
      },
      "source": [
        "View an image with reverb"
      ]
    },
    {
      "cell_type": "code",
      "metadata": {
        "id": "dBXjY1CqDFfZ",
        "outputId": "f8325860-d096-43d3-de4b-e045cb9e5eed",
        "colab": {
          "base_uri": "https://localhost:8080/",
          "height": 857
        }
      },
      "source": [
        "im = X_im_rev[1,:,:].reshape(X_im_rev.shape[1],X_im_rev.shape[2])\n",
        "im=im[::-1,:]\n",
        "plt.figure(figsize=(20,10), dpi=100)\n",
        "plt.imshow(im)\n",
        "plt.ylabel('frequency (bin number)')\n",
        "plt.xlabel('time (frame number)')\n",
        "plt.title('A random spectrogram with reverb');"
      ],
      "execution_count": null,
      "outputs": [
        {
          "output_type": "display_data",
          "data": {
            "image/png": "[encoded data removed]",
            "text/plain": [
              "<Figure size 2000x1000 with 1 Axes>"
            ]
          },
          "metadata": {
            "tags": [],
            "needs_background": "light"
          }
        }
      ]
    },
    {
      "cell_type": "markdown",
      "metadata": {
        "id": "svJ9Ay5RThQb"
      },
      "source": [
        "Now evaluate the performance of the models on the test sets with reverb."
      ]
    },
    {
      "cell_type": "code",
      "metadata": {
        "id": "80YaTqHiYjpA",
        "outputId": "3772c7fe-1a7b-4951-fff8-1870beaff455",
        "colab": {
          "base_uri": "https://localhost:8080/",
          "height": 51
        }
      },
      "source": [
        "model_e2e.evaluate(X_sig_rev, y_trial)"
      ],
      "execution_count": null,
      "outputs": [
        {
          "output_type": "stream",
          "text": [
            "80/80 [==============================] - 8s 101ms/step - loss: 1.9069 - accuracy: 0.5110\n"
          ],
          "name": "stdout"
        },
        {
          "output_type": "execute_result",
          "data": {
            "text/plain": [
              "[1.9069026708602905, 0.5109717845916748]"
            ]
          },
          "metadata": {
            "tags": []
          },
          "execution_count": 53
        }
      ]
    },
    {
      "cell_type": "code",
      "metadata": {
        "id": "hJDoyo7y9UJY",
        "outputId": "245dc8f3-2cec-4dfc-8d12-b627d1f44aa8",
        "colab": {
          "base_uri": "https://localhost:8080/",
          "height": 51
        }
      },
      "source": [
        "model_cnn.evaluate(X_im_rev, y_trial)"
      ],
      "execution_count": null,
      "outputs": [
        {
          "output_type": "stream",
          "text": [
            "80/80 [==============================] - 1s 7ms/step - loss: 2942623.7500 - accuracy: 0.1983\n"
          ],
          "name": "stdout"
        },
        {
          "output_type": "execute_result",
          "data": {
            "text/plain": [
              "[2942623.75, 0.1982758641242981]"
            ]
          },
          "metadata": {
            "tags": []
          },
          "execution_count": 54
        }
      ]
    },
    {
      "cell_type": "markdown",
      "metadata": {
        "id": "0mVOD7hUTm_M"
      },
      "source": [
        "We notice that the performance has worsened drastically with this degradation added to the signal  Your job in this project is to apply preprocessing to the reverberated signals as to give better performance in the networks.  Without changing the overall structure of the networks, process the reverberated signals to be more inteligible to a machine.  Think about what trends a machine will learn from the data and bring out those trends in the new test set.  Perform this for both networks.  For the end to end network, you should directly enhance the audio signals.  For the CNN, you can process the raw audio and then make your choice of feature (spectrogram, mfccs, lpcs, etc.) from the librosa library or any other library.  You can also concatenate features.  For this network, you may change the size of the input layer and retrain if your new features are of a different size than the original.  You can then apply image processing to the resulting images to the resulting image to enchance its ability to be classified correctly.  For each network, try at least 5 different processing techniques on the input signal.  Also try some combinations of those techniques and see if the combination of techniques is better or worse then the application of those techniques alone.  Submit all code at the bottom of this notebook.\n",
        "\n",
        "Note that you may not:\n",
        "1. Use additional audio files in training\n",
        "2. Introduce any overlap between the files used for training and those used for testing\n",
        "3. Add layers to any network (removing layers is fine)\n",
        "4. Assume any knowledge about the room impulse generated or add the same reverb to any training data.\n",
        "\n",
        "You should apply your knowledge of signal processing to enhance the reverberated signals for use by the neural network."
      ]
    }
  ]
}